{
 "cells": [
  {
   "cell_type": "markdown",
   "id": "90c996a3-fb25-4e2f-a27d-8e1588fe7ab4",
   "metadata": {},
   "source": [
    "# Aviation Accident Project"
   ]
  },
  {
   "cell_type": "markdown",
   "id": "ff732693-abe3-4dcc-a7b5-54719d3301b0",
   "metadata": {},
   "source": [
    "## Business Understanding"
   ]
  },
  {
   "cell_type": "markdown",
   "id": "91e74b61-8a16-4437-950f-36edb47b7a7b",
   "metadata": {},
   "source": [
    "## Data Understanding\n",
    "The NTSB aviation accident database contains information from 1962 and later about civil aviation accidents and selected incidents within the United States, its territories and possessions, and in international waters\n",
    "\n",
    "Full narrative descriptions may not be available for dates before 1993,"
   ]
  },
  {
   "cell_type": "markdown",
   "id": "ed8f7575-eefc-4341-ae75-f1ad150d7007",
   "metadata": {
    "jp-MarkdownHeadingCollapsed": true
   },
   "source": [
    "#### Importing libraries"
   ]
  },
  {
   "cell_type": "code",
   "execution_count": 3,
   "id": "38560ea1-83c2-4ab6-a264-608304dd373d",
   "metadata": {},
   "outputs": [],
   "source": [
    "import pandas as pd\n",
    "import numpy as np\n",
    "import matplotlib.pyplot as plt\n",
    "import seaborn as sns"
   ]
  },
  {
   "cell_type": "markdown",
   "id": "414d6f28-712f-4c2b-83fb-75d80ed70178",
   "metadata": {},
   "source": [
    "#### Loading data"
   ]
  },
  {
   "cell_type": "code",
   "execution_count": 5,
   "id": "7811efb2-e17a-4780-8250-0299dc6fadee",
   "metadata": {},
   "outputs": [],
   "source": [
    "df = pd.read_csv(\"AviationData.csv\", encoding = 'latin1', low_memory=False)\n",
    "us_codes = pd.read_csv(\"USState_Codes.csv\")\n",
    "#us_codes.shape"
   ]
  },
  {
   "cell_type": "markdown",
   "id": "fbad965d-5c79-4977-bb7e-9daf59fd022f",
   "metadata": {},
   "source": [
    "#### Viewing data"
   ]
  },
  {
   "cell_type": "code",
   "execution_count": 7,
   "id": "fe03eef3-279b-4bb9-9f97-39e9276dbcea",
   "metadata": {},
   "outputs": [
    {
     "data": {
      "text/html": [
       "<div>\n",
       "<style scoped>\n",
       "    .dataframe tbody tr th:only-of-type {\n",
       "        vertical-align: middle;\n",
       "    }\n",
       "\n",
       "    .dataframe tbody tr th {\n",
       "        vertical-align: top;\n",
       "    }\n",
       "\n",
       "    .dataframe thead th {\n",
       "        text-align: right;\n",
       "    }\n",
       "</style>\n",
       "<table border=\"1\" class=\"dataframe\">\n",
       "  <thead>\n",
       "    <tr style=\"text-align: right;\">\n",
       "      <th></th>\n",
       "      <th>Event.Id</th>\n",
       "      <th>Investigation.Type</th>\n",
       "      <th>Accident.Number</th>\n",
       "      <th>Event.Date</th>\n",
       "      <th>Location</th>\n",
       "      <th>Country</th>\n",
       "      <th>Latitude</th>\n",
       "      <th>Longitude</th>\n",
       "      <th>Airport.Code</th>\n",
       "      <th>Airport.Name</th>\n",
       "      <th>...</th>\n",
       "      <th>Purpose.of.flight</th>\n",
       "      <th>Air.carrier</th>\n",
       "      <th>Total.Fatal.Injuries</th>\n",
       "      <th>Total.Serious.Injuries</th>\n",
       "      <th>Total.Minor.Injuries</th>\n",
       "      <th>Total.Uninjured</th>\n",
       "      <th>Weather.Condition</th>\n",
       "      <th>Broad.phase.of.flight</th>\n",
       "      <th>Report.Status</th>\n",
       "      <th>Publication.Date</th>\n",
       "    </tr>\n",
       "  </thead>\n",
       "  <tbody>\n",
       "    <tr>\n",
       "      <th>0</th>\n",
       "      <td>20001218X45444</td>\n",
       "      <td>Accident</td>\n",
       "      <td>SEA87LA080</td>\n",
       "      <td>1948-10-24</td>\n",
       "      <td>MOOSE CREEK, ID</td>\n",
       "      <td>United States</td>\n",
       "      <td>NaN</td>\n",
       "      <td>NaN</td>\n",
       "      <td>NaN</td>\n",
       "      <td>NaN</td>\n",
       "      <td>...</td>\n",
       "      <td>Personal</td>\n",
       "      <td>NaN</td>\n",
       "      <td>2.0</td>\n",
       "      <td>0.0</td>\n",
       "      <td>0.0</td>\n",
       "      <td>0.0</td>\n",
       "      <td>UNK</td>\n",
       "      <td>Cruise</td>\n",
       "      <td>Probable Cause</td>\n",
       "      <td>NaN</td>\n",
       "    </tr>\n",
       "    <tr>\n",
       "      <th>1</th>\n",
       "      <td>20001218X45447</td>\n",
       "      <td>Accident</td>\n",
       "      <td>LAX94LA336</td>\n",
       "      <td>1962-07-19</td>\n",
       "      <td>BRIDGEPORT, CA</td>\n",
       "      <td>United States</td>\n",
       "      <td>NaN</td>\n",
       "      <td>NaN</td>\n",
       "      <td>NaN</td>\n",
       "      <td>NaN</td>\n",
       "      <td>...</td>\n",
       "      <td>Personal</td>\n",
       "      <td>NaN</td>\n",
       "      <td>4.0</td>\n",
       "      <td>0.0</td>\n",
       "      <td>0.0</td>\n",
       "      <td>0.0</td>\n",
       "      <td>UNK</td>\n",
       "      <td>Unknown</td>\n",
       "      <td>Probable Cause</td>\n",
       "      <td>19-09-1996</td>\n",
       "    </tr>\n",
       "    <tr>\n",
       "      <th>2</th>\n",
       "      <td>20061025X01555</td>\n",
       "      <td>Accident</td>\n",
       "      <td>NYC07LA005</td>\n",
       "      <td>1974-08-30</td>\n",
       "      <td>Saltville, VA</td>\n",
       "      <td>United States</td>\n",
       "      <td>36.922223</td>\n",
       "      <td>-81.878056</td>\n",
       "      <td>NaN</td>\n",
       "      <td>NaN</td>\n",
       "      <td>...</td>\n",
       "      <td>Personal</td>\n",
       "      <td>NaN</td>\n",
       "      <td>3.0</td>\n",
       "      <td>NaN</td>\n",
       "      <td>NaN</td>\n",
       "      <td>NaN</td>\n",
       "      <td>IMC</td>\n",
       "      <td>Cruise</td>\n",
       "      <td>Probable Cause</td>\n",
       "      <td>26-02-2007</td>\n",
       "    </tr>\n",
       "    <tr>\n",
       "      <th>3</th>\n",
       "      <td>20001218X45448</td>\n",
       "      <td>Accident</td>\n",
       "      <td>LAX96LA321</td>\n",
       "      <td>1977-06-19</td>\n",
       "      <td>EUREKA, CA</td>\n",
       "      <td>United States</td>\n",
       "      <td>NaN</td>\n",
       "      <td>NaN</td>\n",
       "      <td>NaN</td>\n",
       "      <td>NaN</td>\n",
       "      <td>...</td>\n",
       "      <td>Personal</td>\n",
       "      <td>NaN</td>\n",
       "      <td>2.0</td>\n",
       "      <td>0.0</td>\n",
       "      <td>0.0</td>\n",
       "      <td>0.0</td>\n",
       "      <td>IMC</td>\n",
       "      <td>Cruise</td>\n",
       "      <td>Probable Cause</td>\n",
       "      <td>12-09-2000</td>\n",
       "    </tr>\n",
       "    <tr>\n",
       "      <th>4</th>\n",
       "      <td>20041105X01764</td>\n",
       "      <td>Accident</td>\n",
       "      <td>CHI79FA064</td>\n",
       "      <td>1979-08-02</td>\n",
       "      <td>Canton, OH</td>\n",
       "      <td>United States</td>\n",
       "      <td>NaN</td>\n",
       "      <td>NaN</td>\n",
       "      <td>NaN</td>\n",
       "      <td>NaN</td>\n",
       "      <td>...</td>\n",
       "      <td>Personal</td>\n",
       "      <td>NaN</td>\n",
       "      <td>1.0</td>\n",
       "      <td>2.0</td>\n",
       "      <td>NaN</td>\n",
       "      <td>0.0</td>\n",
       "      <td>VMC</td>\n",
       "      <td>Approach</td>\n",
       "      <td>Probable Cause</td>\n",
       "      <td>16-04-1980</td>\n",
       "    </tr>\n",
       "  </tbody>\n",
       "</table>\n",
       "<p>5 rows × 31 columns</p>\n",
       "</div>"
      ],
      "text/plain": [
       "         Event.Id Investigation.Type Accident.Number  Event.Date  \\\n",
       "0  20001218X45444           Accident      SEA87LA080  1948-10-24   \n",
       "1  20001218X45447           Accident      LAX94LA336  1962-07-19   \n",
       "2  20061025X01555           Accident      NYC07LA005  1974-08-30   \n",
       "3  20001218X45448           Accident      LAX96LA321  1977-06-19   \n",
       "4  20041105X01764           Accident      CHI79FA064  1979-08-02   \n",
       "\n",
       "          Location        Country   Latitude   Longitude Airport.Code  \\\n",
       "0  MOOSE CREEK, ID  United States        NaN         NaN          NaN   \n",
       "1   BRIDGEPORT, CA  United States        NaN         NaN          NaN   \n",
       "2    Saltville, VA  United States  36.922223  -81.878056          NaN   \n",
       "3       EUREKA, CA  United States        NaN         NaN          NaN   \n",
       "4       Canton, OH  United States        NaN         NaN          NaN   \n",
       "\n",
       "  Airport.Name  ... Purpose.of.flight Air.carrier Total.Fatal.Injuries  \\\n",
       "0          NaN  ...          Personal         NaN                  2.0   \n",
       "1          NaN  ...          Personal         NaN                  4.0   \n",
       "2          NaN  ...          Personal         NaN                  3.0   \n",
       "3          NaN  ...          Personal         NaN                  2.0   \n",
       "4          NaN  ...          Personal         NaN                  1.0   \n",
       "\n",
       "  Total.Serious.Injuries Total.Minor.Injuries Total.Uninjured  \\\n",
       "0                    0.0                  0.0             0.0   \n",
       "1                    0.0                  0.0             0.0   \n",
       "2                    NaN                  NaN             NaN   \n",
       "3                    0.0                  0.0             0.0   \n",
       "4                    2.0                  NaN             0.0   \n",
       "\n",
       "  Weather.Condition  Broad.phase.of.flight   Report.Status Publication.Date  \n",
       "0               UNK                 Cruise  Probable Cause              NaN  \n",
       "1               UNK                Unknown  Probable Cause       19-09-1996  \n",
       "2               IMC                 Cruise  Probable Cause       26-02-2007  \n",
       "3               IMC                 Cruise  Probable Cause       12-09-2000  \n",
       "4               VMC               Approach  Probable Cause       16-04-1980  \n",
       "\n",
       "[5 rows x 31 columns]"
      ]
     },
     "execution_count": 7,
     "metadata": {},
     "output_type": "execute_result"
    }
   ],
   "source": [
    "df.head()"
   ]
  },
  {
   "cell_type": "code",
   "execution_count": 9,
   "id": "6e502f83-f4b9-4aad-9ed5-74375c45d3f8",
   "metadata": {},
   "outputs": [
    {
     "name": "stdout",
     "output_type": "stream",
     "text": [
      "<class 'pandas.core.frame.DataFrame'>\n",
      "RangeIndex: 88889 entries, 0 to 88888\n",
      "Data columns (total 31 columns):\n",
      " #   Column                  Non-Null Count  Dtype  \n",
      "---  ------                  --------------  -----  \n",
      " 0   Event.Id                88889 non-null  object \n",
      " 1   Investigation.Type      88889 non-null  object \n",
      " 2   Accident.Number         88889 non-null  object \n",
      " 3   Event.Date              88889 non-null  object \n",
      " 4   Location                88837 non-null  object \n",
      " 5   Country                 88663 non-null  object \n",
      " 6   Latitude                34382 non-null  object \n",
      " 7   Longitude               34373 non-null  object \n",
      " 8   Airport.Code            50132 non-null  object \n",
      " 9   Airport.Name            52704 non-null  object \n",
      " 10  Injury.Severity         87889 non-null  object \n",
      " 11  Aircraft.damage         85695 non-null  object \n",
      " 12  Aircraft.Category       32287 non-null  object \n",
      " 13  Registration.Number     87507 non-null  object \n",
      " 14  Make                    88826 non-null  object \n",
      " 15  Model                   88797 non-null  object \n",
      " 16  Amateur.Built           88787 non-null  object \n",
      " 17  Number.of.Engines       82805 non-null  float64\n",
      " 18  Engine.Type             81793 non-null  object \n",
      " 19  FAR.Description         32023 non-null  object \n",
      " 20  Schedule                12582 non-null  object \n",
      " 21  Purpose.of.flight       82697 non-null  object \n",
      " 22  Air.carrier             16648 non-null  object \n",
      " 23  Total.Fatal.Injuries    77488 non-null  float64\n",
      " 24  Total.Serious.Injuries  76379 non-null  float64\n",
      " 25  Total.Minor.Injuries    76956 non-null  float64\n",
      " 26  Total.Uninjured         82977 non-null  float64\n",
      " 27  Weather.Condition       84397 non-null  object \n",
      " 28  Broad.phase.of.flight   61724 non-null  object \n",
      " 29  Report.Status           82505 non-null  object \n",
      " 30  Publication.Date        75118 non-null  object \n",
      "dtypes: float64(5), object(26)\n",
      "memory usage: 21.0+ MB\n"
     ]
    }
   ],
   "source": [
    "df.info()"
   ]
  },
  {
   "cell_type": "code",
   "execution_count": 11,
   "id": "8dd3fdc0-5639-48bf-b3b9-97ae3687972b",
   "metadata": {},
   "outputs": [
    {
     "data": {
      "text/html": [
       "<div>\n",
       "<style scoped>\n",
       "    .dataframe tbody tr th:only-of-type {\n",
       "        vertical-align: middle;\n",
       "    }\n",
       "\n",
       "    .dataframe tbody tr th {\n",
       "        vertical-align: top;\n",
       "    }\n",
       "\n",
       "    .dataframe thead th {\n",
       "        text-align: right;\n",
       "    }\n",
       "</style>\n",
       "<table border=\"1\" class=\"dataframe\">\n",
       "  <thead>\n",
       "    <tr style=\"text-align: right;\">\n",
       "      <th></th>\n",
       "      <th>Number.of.Engines</th>\n",
       "      <th>Total.Fatal.Injuries</th>\n",
       "      <th>Total.Serious.Injuries</th>\n",
       "      <th>Total.Minor.Injuries</th>\n",
       "      <th>Total.Uninjured</th>\n",
       "    </tr>\n",
       "  </thead>\n",
       "  <tbody>\n",
       "    <tr>\n",
       "      <th>count</th>\n",
       "      <td>82805.000000</td>\n",
       "      <td>77488.000000</td>\n",
       "      <td>76379.000000</td>\n",
       "      <td>76956.000000</td>\n",
       "      <td>82977.000000</td>\n",
       "    </tr>\n",
       "    <tr>\n",
       "      <th>mean</th>\n",
       "      <td>1.146585</td>\n",
       "      <td>0.647855</td>\n",
       "      <td>0.279881</td>\n",
       "      <td>0.357061</td>\n",
       "      <td>5.325440</td>\n",
       "    </tr>\n",
       "    <tr>\n",
       "      <th>std</th>\n",
       "      <td>0.446510</td>\n",
       "      <td>5.485960</td>\n",
       "      <td>1.544084</td>\n",
       "      <td>2.235625</td>\n",
       "      <td>27.913634</td>\n",
       "    </tr>\n",
       "    <tr>\n",
       "      <th>min</th>\n",
       "      <td>0.000000</td>\n",
       "      <td>0.000000</td>\n",
       "      <td>0.000000</td>\n",
       "      <td>0.000000</td>\n",
       "      <td>0.000000</td>\n",
       "    </tr>\n",
       "    <tr>\n",
       "      <th>25%</th>\n",
       "      <td>1.000000</td>\n",
       "      <td>0.000000</td>\n",
       "      <td>0.000000</td>\n",
       "      <td>0.000000</td>\n",
       "      <td>0.000000</td>\n",
       "    </tr>\n",
       "    <tr>\n",
       "      <th>50%</th>\n",
       "      <td>1.000000</td>\n",
       "      <td>0.000000</td>\n",
       "      <td>0.000000</td>\n",
       "      <td>0.000000</td>\n",
       "      <td>1.000000</td>\n",
       "    </tr>\n",
       "    <tr>\n",
       "      <th>75%</th>\n",
       "      <td>1.000000</td>\n",
       "      <td>0.000000</td>\n",
       "      <td>0.000000</td>\n",
       "      <td>0.000000</td>\n",
       "      <td>2.000000</td>\n",
       "    </tr>\n",
       "    <tr>\n",
       "      <th>max</th>\n",
       "      <td>8.000000</td>\n",
       "      <td>349.000000</td>\n",
       "      <td>161.000000</td>\n",
       "      <td>380.000000</td>\n",
       "      <td>699.000000</td>\n",
       "    </tr>\n",
       "  </tbody>\n",
       "</table>\n",
       "</div>"
      ],
      "text/plain": [
       "       Number.of.Engines  Total.Fatal.Injuries  Total.Serious.Injuries  \\\n",
       "count       82805.000000          77488.000000            76379.000000   \n",
       "mean            1.146585              0.647855                0.279881   \n",
       "std             0.446510              5.485960                1.544084   \n",
       "min             0.000000              0.000000                0.000000   \n",
       "25%             1.000000              0.000000                0.000000   \n",
       "50%             1.000000              0.000000                0.000000   \n",
       "75%             1.000000              0.000000                0.000000   \n",
       "max             8.000000            349.000000              161.000000   \n",
       "\n",
       "       Total.Minor.Injuries  Total.Uninjured  \n",
       "count          76956.000000     82977.000000  \n",
       "mean               0.357061         5.325440  \n",
       "std                2.235625        27.913634  \n",
       "min                0.000000         0.000000  \n",
       "25%                0.000000         0.000000  \n",
       "50%                0.000000         1.000000  \n",
       "75%                0.000000         2.000000  \n",
       "max              380.000000       699.000000  "
      ]
     },
     "execution_count": 11,
     "metadata": {},
     "output_type": "execute_result"
    }
   ],
   "source": [
    "df.describe()"
   ]
  },
  {
   "cell_type": "code",
   "execution_count": 13,
   "id": "7fcd9c1c-e712-4c2a-9c9d-1cf53d8e43e4",
   "metadata": {},
   "outputs": [
    {
     "data": {
      "text/plain": [
       "(88889, 31)"
      ]
     },
     "execution_count": 13,
     "metadata": {},
     "output_type": "execute_result"
    }
   ],
   "source": [
    "df.shape"
   ]
  },
  {
   "cell_type": "code",
   "execution_count": 19,
   "id": "96207f43-cbc6-4544-9830-9b4edf0b3f53",
   "metadata": {},
   "outputs": [
    {
     "data": {
      "text/plain": [
       "Country\n",
       "United States     82248\n",
       "Brazil              374\n",
       "Canada              359\n",
       "Mexico              358\n",
       "United Kingdom      344\n",
       "Australia           300\n",
       "France              236\n",
       "Spain               226\n",
       "Bahamas             216\n",
       "Germany             215\n",
       "Colombia            193\n",
       "South Africa        129\n",
       "Japan               126\n",
       "Venezuela           121\n",
       "Italy               114\n",
       "Name: count, dtype: int64"
      ]
     },
     "execution_count": 19,
     "metadata": {},
     "output_type": "execute_result"
    }
   ],
   "source": [
    "df[\"Country\"].value_counts().head(15)"
   ]
  },
  {
   "cell_type": "code",
   "execution_count": 21,
   "id": "3ac1c5b3-d515-4405-b81c-2536fc3947fe",
   "metadata": {},
   "outputs": [],
   "source": [
    "us_accident = df[df['Country'] == 'United States']"
   ]
  },
  {
   "cell_type": "code",
   "execution_count": 23,
   "id": "81e9ab9b-bac1-42f9-953e-d57480e17926",
   "metadata": {},
   "outputs": [
    {
     "name": "stdout",
     "output_type": "stream",
     "text": [
      "<class 'pandas.core.frame.DataFrame'>\n",
      "Index: 82248 entries, 0 to 88888\n",
      "Data columns (total 31 columns):\n",
      " #   Column                  Non-Null Count  Dtype  \n",
      "---  ------                  --------------  -----  \n",
      " 0   Event.Id                82248 non-null  object \n",
      " 1   Investigation.Type      82248 non-null  object \n",
      " 2   Accident.Number         82248 non-null  object \n",
      " 3   Event.Date              82248 non-null  object \n",
      " 4   Location                82237 non-null  object \n",
      " 5   Country                 82248 non-null  object \n",
      " 6   Latitude                32265 non-null  object \n",
      " 7   Longitude               32255 non-null  object \n",
      " 8   Airport.Code            49072 non-null  object \n",
      " 9   Airport.Name            51570 non-null  object \n",
      " 10  Injury.Severity         82140 non-null  object \n",
      " 11  Aircraft.damage         80269 non-null  object \n",
      " 12  Aircraft.Category       28154 non-null  object \n",
      " 13  Registration.Number     82132 non-null  object \n",
      " 14  Make                    82227 non-null  object \n",
      " 15  Model                   82210 non-null  object \n",
      " 16  Amateur.Built           82227 non-null  object \n",
      " 17  Number.of.Engines       80373 non-null  float64\n",
      " 18  Engine.Type             79206 non-null  object \n",
      " 19  FAR.Description         28225 non-null  object \n",
      " 20  Schedule                10297 non-null  object \n",
      " 21  Purpose.of.flight       79819 non-null  object \n",
      " 22  Air.carrier             14495 non-null  object \n",
      " 23  Total.Fatal.Injuries    71594 non-null  float64\n",
      " 24  Total.Serious.Injuries  70873 non-null  float64\n",
      " 25  Total.Minor.Injuries    71519 non-null  float64\n",
      " 26  Total.Uninjured         77243 non-null  float64\n",
      " 27  Weather.Condition       81603 non-null  object \n",
      " 28  Broad.phase.of.flight   61158 non-null  object \n",
      " 29  Report.Status           79637 non-null  object \n",
      " 30  Publication.Date        69567 non-null  object \n",
      "dtypes: float64(5), object(26)\n",
      "memory usage: 20.1+ MB\n"
     ]
    }
   ],
   "source": [
    "us_accident.info()"
   ]
  },
  {
   "cell_type": "markdown",
   "id": "c1088b3e-cac9-4b2a-bf14-99f1a244e964",
   "metadata": {},
   "source": [
    "## Data cleaning\n",
    "\n",
    "- Checking for missing values and duplicates in the data.\n",
    "- Dropping columns with a lot of missing values."
   ]
  },
  {
   "cell_type": "markdown",
   "id": "b8549c5b-25b1-436b-8d0a-502a44fad2c6",
   "metadata": {},
   "source": [
    "#### Checking for duplicates"
   ]
  },
  {
   "cell_type": "code",
   "execution_count": 27,
   "id": "e2d657b5-db21-49f0-900c-7ad62a6c0afd",
   "metadata": {},
   "outputs": [
    {
     "data": {
      "text/plain": [
       "0"
      ]
     },
     "execution_count": 27,
     "metadata": {},
     "output_type": "execute_result"
    }
   ],
   "source": [
    "us_accident.duplicated().sum()"
   ]
  },
  {
   "cell_type": "code",
   "execution_count": 25,
   "id": "d11fdc62-cb6a-4c7b-8c00-9344eafbffa5",
   "metadata": {},
   "outputs": [
    {
     "name": "stderr",
     "output_type": "stream",
     "text": [
      "C:\\Users\\user\\AppData\\Local\\Temp\\ipykernel_2692\\2668504490.py:1: SettingWithCopyWarning: \n",
      "A value is trying to be set on a copy of a slice from a DataFrame\n",
      "\n",
      "See the caveats in the documentation: https://pandas.pydata.org/pandas-docs/stable/user_guide/indexing.html#returning-a-view-versus-a-copy\n",
      "  us_accident.drop(us_accident.duplicated().sum(), inplace = True)\n"
     ]
    }
   ],
   "source": [
    "us_accident.drop(us_accident.duplicated().sum(), inplace = True)"
   ]
  },
  {
   "cell_type": "markdown",
   "id": "39955351-f135-412f-a390-da238f558e6e",
   "metadata": {},
   "source": [
    "#### Cheking for missing values\n",
    "Dropping columns that have more than 50 % of mising values.\n",
    "Dropping rows that have missing values in all rows"
   ]
  },
  {
   "cell_type": "code",
   "execution_count": 49,
   "id": "ba0d688e-28d2-4978-a3d9-3d44773d186a",
   "metadata": {},
   "outputs": [
    {
     "data": {
      "text/plain": [
       "Event.Id                      0\n",
       "Investigation.Type            0\n",
       "Accident.Number               0\n",
       "Event.Date                    0\n",
       "Location                      9\n",
       "Country                       0\n",
       "Injury.Severity             108\n",
       "Aircraft.damage            1828\n",
       "Registration.Number          71\n",
       "Make                         20\n",
       "Model                        33\n",
       "Amateur.Built                11\n",
       "Number.of.Engines          1784\n",
       "Engine.Type                2864\n",
       "Purpose.of.flight          1812\n",
       "Total.Fatal.Injuries       3379\n",
       "Total.Serious.Injuries     4100\n",
       "Total.Minor.Injuries       3454\n",
       "Total.Uninjured            4985\n",
       "Weather.Condition           623\n",
       "Broad.phase.of.flight     21073\n",
       "Report.Status              2611\n",
       "Publication.Date          12674\n",
       "dtype: int64"
      ]
     },
     "execution_count": 49,
     "metadata": {},
     "output_type": "execute_result"
    }
   ],
   "source": [
    "us_accident.isna().sum()"
   ]
  },
  {
   "cell_type": "code",
   "execution_count": 51,
   "id": "b294e830-50c2-43cf-83b2-b0dce08ae500",
   "metadata": {},
   "outputs": [
    {
     "name": "stdout",
     "output_type": "stream",
     "text": [
      "                        Missing Values  Percentage\n",
      "Broad.phase.of.flight            21073        28.0\n",
      "Publication.Date                 12674        17.0\n",
      "Total.Uninjured                   4985         7.0\n",
      "Total.Serious.Injuries            4100         5.0\n",
      "Total.Minor.Injuries              3454         5.0\n",
      "Total.Fatal.Injuries              3379         5.0\n",
      "Engine.Type                       2864         4.0\n",
      "Report.Status                     2611         3.0\n",
      "Aircraft.damage                   1828         2.0\n",
      "Purpose.of.flight                 1812         2.0\n",
      "Number.of.Engines                 1784         2.0\n",
      "Weather.Condition                  623         1.0\n",
      "Injury.Severity                    108         0.0\n",
      "Registration.Number                 71         0.0\n",
      "Model                               33         0.0\n",
      "Make                                20         0.0\n",
      "Amateur.Built                       11         0.0\n",
      "Location                             9         0.0\n",
      "Investigation.Type                   0         0.0\n",
      "Country                              0         0.0\n",
      "Event.Date                           0         0.0\n",
      "Accident.Number                      0         0.0\n",
      "Event.Id                             0         0.0\n"
     ]
    }
   ],
   "source": [
    "missing = us_accident.isnull().sum().sort_values(ascending=False)\n",
    "missing_percentage = round((missing / len(us_accident)) * 100)\n",
    "    \n",
    "print(pd.concat([missing, missing_percentage], axis=1, keys=[\"Missing Values\", \"Percentage\"]))\n"
   ]
  },
  {
   "cell_type": "code",
   "execution_count": 63,
   "id": "1d7236b1-4ab8-4ff3-a9af-097a0d43bcd6",
   "metadata": {},
   "outputs": [],
   "source": [
    "us_accident.dropna(axis=1, how='all', inplace=True)\n",
    "\n"
   ]
  },
  {
   "cell_type": "code",
   "execution_count": 43,
   "id": "35dce2e3-e249-4535-8280-b8422b8735c0",
   "metadata": {},
   "outputs": [
    {
     "data": {
      "text/html": [
       "<div>\n",
       "<style scoped>\n",
       "    .dataframe tbody tr th:only-of-type {\n",
       "        vertical-align: middle;\n",
       "    }\n",
       "\n",
       "    .dataframe tbody tr th {\n",
       "        vertical-align: top;\n",
       "    }\n",
       "\n",
       "    .dataframe thead th {\n",
       "        text-align: right;\n",
       "    }\n",
       "</style>\n",
       "<table border=\"1\" class=\"dataframe\">\n",
       "  <thead>\n",
       "    <tr style=\"text-align: right;\">\n",
       "      <th></th>\n",
       "      <th>Schedule</th>\n",
       "      <th>Air.carrier</th>\n",
       "      <th>FAR.Description</th>\n",
       "      <th>Aircraft.Category</th>\n",
       "      <th>Airport.Code</th>\n",
       "      <th>Airport.Name</th>\n",
       "    </tr>\n",
       "  </thead>\n",
       "  <tbody>\n",
       "    <tr>\n",
       "      <th>1</th>\n",
       "      <td>NaN</td>\n",
       "      <td>NaN</td>\n",
       "      <td>NaN</td>\n",
       "      <td>NaN</td>\n",
       "      <td>NaN</td>\n",
       "      <td>NaN</td>\n",
       "    </tr>\n",
       "    <tr>\n",
       "      <th>2</th>\n",
       "      <td>NaN</td>\n",
       "      <td>NaN</td>\n",
       "      <td>NaN</td>\n",
       "      <td>NaN</td>\n",
       "      <td>NaN</td>\n",
       "      <td>NaN</td>\n",
       "    </tr>\n",
       "    <tr>\n",
       "      <th>3</th>\n",
       "      <td>NaN</td>\n",
       "      <td>NaN</td>\n",
       "      <td>NaN</td>\n",
       "      <td>NaN</td>\n",
       "      <td>NaN</td>\n",
       "      <td>NaN</td>\n",
       "    </tr>\n",
       "    <tr>\n",
       "      <th>4</th>\n",
       "      <td>NaN</td>\n",
       "      <td>NaN</td>\n",
       "      <td>NaN</td>\n",
       "      <td>NaN</td>\n",
       "      <td>NaN</td>\n",
       "      <td>NaN</td>\n",
       "    </tr>\n",
       "    <tr>\n",
       "      <th>5</th>\n",
       "      <td>SCHD</td>\n",
       "      <td>Air Canada</td>\n",
       "      <td>Part 129: Foreign</td>\n",
       "      <td>Airplane</td>\n",
       "      <td>NaN</td>\n",
       "      <td>NaN</td>\n",
       "    </tr>\n",
       "    <tr>\n",
       "      <th>...</th>\n",
       "      <td>...</td>\n",
       "      <td>...</td>\n",
       "      <td>...</td>\n",
       "      <td>...</td>\n",
       "      <td>...</td>\n",
       "      <td>...</td>\n",
       "    </tr>\n",
       "    <tr>\n",
       "      <th>88884</th>\n",
       "      <td>NaN</td>\n",
       "      <td>NaN</td>\n",
       "      <td>091</td>\n",
       "      <td>NaN</td>\n",
       "      <td>NaN</td>\n",
       "      <td>NaN</td>\n",
       "    </tr>\n",
       "    <tr>\n",
       "      <th>88885</th>\n",
       "      <td>NaN</td>\n",
       "      <td>NaN</td>\n",
       "      <td>NaN</td>\n",
       "      <td>NaN</td>\n",
       "      <td>NaN</td>\n",
       "      <td>NaN</td>\n",
       "    </tr>\n",
       "    <tr>\n",
       "      <th>88886</th>\n",
       "      <td>NaN</td>\n",
       "      <td>NaN</td>\n",
       "      <td>091</td>\n",
       "      <td>Airplane</td>\n",
       "      <td>PAN</td>\n",
       "      <td>PAYSON</td>\n",
       "    </tr>\n",
       "    <tr>\n",
       "      <th>88887</th>\n",
       "      <td>NaN</td>\n",
       "      <td>MC CESSNA 210N LLC</td>\n",
       "      <td>091</td>\n",
       "      <td>NaN</td>\n",
       "      <td>NaN</td>\n",
       "      <td>NaN</td>\n",
       "    </tr>\n",
       "    <tr>\n",
       "      <th>88888</th>\n",
       "      <td>NaN</td>\n",
       "      <td>NaN</td>\n",
       "      <td>091</td>\n",
       "      <td>NaN</td>\n",
       "      <td>NaN</td>\n",
       "      <td>NaN</td>\n",
       "    </tr>\n",
       "  </tbody>\n",
       "</table>\n",
       "<p>74972 rows × 6 columns</p>\n",
       "</div>"
      ],
      "text/plain": [
       "      Schedule         Air.carrier    FAR.Description Aircraft.Category  \\\n",
       "1          NaN                 NaN                NaN               NaN   \n",
       "2          NaN                 NaN                NaN               NaN   \n",
       "3          NaN                 NaN                NaN               NaN   \n",
       "4          NaN                 NaN                NaN               NaN   \n",
       "5         SCHD          Air Canada  Part 129: Foreign          Airplane   \n",
       "...        ...                 ...                ...               ...   \n",
       "88884      NaN                 NaN                091               NaN   \n",
       "88885      NaN                 NaN                NaN               NaN   \n",
       "88886      NaN                 NaN                091          Airplane   \n",
       "88887      NaN  MC CESSNA 210N LLC                091               NaN   \n",
       "88888      NaN                 NaN                091               NaN   \n",
       "\n",
       "      Airport.Code Airport.Name  \n",
       "1              NaN          NaN  \n",
       "2              NaN          NaN  \n",
       "3              NaN          NaN  \n",
       "4              NaN          NaN  \n",
       "5              NaN          NaN  \n",
       "...            ...          ...  \n",
       "88884          NaN          NaN  \n",
       "88885          NaN          NaN  \n",
       "88886          PAN       PAYSON  \n",
       "88887          NaN          NaN  \n",
       "88888          NaN          NaN  \n",
       "\n",
       "[74972 rows x 6 columns]"
      ]
     },
     "execution_count": 43,
     "metadata": {},
     "output_type": "execute_result"
    }
   ],
   "source": [
    "us_accident[[\"Schedule\",\"Air.carrier\",\"FAR.Description\",\"Aircraft.Category\",\"Airport.Code\",\"Airport.Name\"]]"
   ]
  },
  {
   "cell_type": "code",
   "execution_count": 47,
   "id": "6ff4ed3c-afd8-417d-9baf-affed0a6497b",
   "metadata": {},
   "outputs": [],
   "source": [
    "cols_to_drop = missing_percentage[missing_percentage > 30].index\n",
    "us_accident = us_accident.drop(columns=cols_to_drop)"
   ]
  },
  {
   "cell_type": "code",
   "execution_count": 57,
   "id": "e8a08baa-88c0-4b06-adf1-2950764bbf43",
   "metadata": {},
   "outputs": [
    {
     "data": {
      "text/plain": [
       "Index(['Event.Id', 'Investigation.Type', 'Accident.Number', 'Event.Date',\n",
       "       'Location', 'Country', 'Injury.Severity', 'Aircraft.damage',\n",
       "       'Registration.Number', 'Make', 'Model', 'Amateur.Built',\n",
       "       'Number.of.Engines', 'Engine.Type', 'Purpose.of.flight',\n",
       "       'Total.Fatal.Injuries', 'Total.Serious.Injuries',\n",
       "       'Total.Minor.Injuries', 'Total.Uninjured', 'Weather.Condition',\n",
       "       'Broad.phase.of.flight', 'Report.Status', 'Publication.Date'],\n",
       "      dtype='object')"
      ]
     },
     "execution_count": 57,
     "metadata": {},
     "output_type": "execute_result"
    }
   ],
   "source": [
    "us_accident.columns"
   ]
  },
  {
   "cell_type": "code",
   "execution_count": 92,
   "id": "ec5ac0fa-3c98-489b-8ee0-23bec33f517d",
   "metadata": {},
   "outputs": [
    {
     "data": {
      "text/plain": [
       "Broad.phase.of.flight     21073\n",
       "Total.Uninjured            4985\n",
       "Engine.Type                2864\n",
       "Report.Status              2611\n",
       "Aircraft.damage            1828\n",
       "Purpose.of.flight          1812\n",
       "Number.of.Engines          1784\n",
       "Weather.Condition           623\n",
       "Injury.Severity             108\n",
       "Model                        33\n",
       "Make                         20\n",
       "Amateur.Built                11\n",
       "Location                      9\n",
       "Investigation.Type            0\n",
       "Country                       0\n",
       "Total.Fatal.Injuries          0\n",
       "Total.Serious.Injuries        0\n",
       "Total.Minor.Injuries          0\n",
       "Event.Date                    0\n",
       "Accident.Number               0\n",
       "Event.Id                      0\n",
       "dtype: int64"
      ]
     },
     "execution_count": 92,
     "metadata": {},
     "output_type": "execute_result"
    }
   ],
   "source": [
    "us_accident.isna().sum().sort_values(ascending = False)"
   ]
  },
  {
   "cell_type": "code",
   "execution_count": 94,
   "id": "1a657ffe-102e-4e0e-91a3-aa43433c4608",
   "metadata": {},
   "outputs": [
    {
     "name": "stdout",
     "output_type": "stream",
     "text": [
      "                        Missing Values  Percentage\n",
      "Broad.phase.of.flight            21073   28.107827\n",
      "Total.Uninjured                   4985    6.649149\n",
      "Engine.Type                       2864    3.820093\n",
      "Report.Status                     2611    3.482634\n",
      "Aircraft.damage                   1828    2.438244\n",
      "Purpose.of.flight                 1812    2.416902\n",
      "Number.of.Engines                 1784    2.379555\n",
      "Weather.Condition                  623    0.830977\n",
      "Injury.Severity                    108    0.144054\n",
      "Model                               33    0.044016\n",
      "Make                                20    0.026677\n",
      "Amateur.Built                       11    0.014672\n",
      "Location                             9    0.012004\n",
      "Investigation.Type                   0    0.000000\n",
      "Country                              0    0.000000\n",
      "Total.Fatal.Injuries                 0    0.000000\n",
      "Total.Serious.Injuries               0    0.000000\n",
      "Total.Minor.Injuries                 0    0.000000\n",
      "Event.Date                           0    0.000000\n",
      "Accident.Number                      0    0.000000\n",
      "Event.Id                             0    0.000000\n"
     ]
    }
   ],
   "source": [
    "missing = us_accident.isnull().sum().sort_values(ascending=False)\n",
    "missing_percentage = (missing / len(us_accident)) * 100\n",
    "\n",
    "print(pd.concat([missing, missing_percentage], axis=1, keys=[\"Missing Values\", \"Percentage\"]))\n"
   ]
  },
  {
   "cell_type": "code",
   "execution_count": 68,
   "id": "41f300da-99b0-42b7-b4ca-3d96d8c53a18",
   "metadata": {},
   "outputs": [
    {
     "data": {
      "text/plain": [
       "(74972, 23)"
      ]
     },
     "execution_count": 68,
     "metadata": {},
     "output_type": "execute_result"
    }
   ],
   "source": [
    "us_accident.shape"
   ]
  },
  {
   "cell_type": "markdown",
   "id": "bb2a9a1a-7c1d-4508-a5e6-09dc44917396",
   "metadata": {},
   "source": []
  },
  {
   "cell_type": "code",
   "execution_count": 70,
   "id": "cbc03ba7-119a-4e87-a1bd-9c06b87c416c",
   "metadata": {},
   "outputs": [
    {
     "data": {
      "text/html": [
       "<div>\n",
       "<style scoped>\n",
       "    .dataframe tbody tr th:only-of-type {\n",
       "        vertical-align: middle;\n",
       "    }\n",
       "\n",
       "    .dataframe tbody tr th {\n",
       "        vertical-align: top;\n",
       "    }\n",
       "\n",
       "    .dataframe thead th {\n",
       "        text-align: right;\n",
       "    }\n",
       "</style>\n",
       "<table border=\"1\" class=\"dataframe\">\n",
       "  <thead>\n",
       "    <tr style=\"text-align: right;\">\n",
       "      <th></th>\n",
       "      <th>Total.Serious.Injuries</th>\n",
       "      <th>Total.Minor.Injuries</th>\n",
       "      <th>Total.Fatal.Injuries</th>\n",
       "    </tr>\n",
       "  </thead>\n",
       "  <tbody>\n",
       "    <tr>\n",
       "      <th>1</th>\n",
       "      <td>0.0</td>\n",
       "      <td>0.0</td>\n",
       "      <td>4.0</td>\n",
       "    </tr>\n",
       "    <tr>\n",
       "      <th>2</th>\n",
       "      <td>NaN</td>\n",
       "      <td>NaN</td>\n",
       "      <td>3.0</td>\n",
       "    </tr>\n",
       "    <tr>\n",
       "      <th>3</th>\n",
       "      <td>0.0</td>\n",
       "      <td>0.0</td>\n",
       "      <td>2.0</td>\n",
       "    </tr>\n",
       "    <tr>\n",
       "      <th>4</th>\n",
       "      <td>2.0</td>\n",
       "      <td>NaN</td>\n",
       "      <td>1.0</td>\n",
       "    </tr>\n",
       "    <tr>\n",
       "      <th>5</th>\n",
       "      <td>NaN</td>\n",
       "      <td>1.0</td>\n",
       "      <td>NaN</td>\n",
       "    </tr>\n",
       "    <tr>\n",
       "      <th>6</th>\n",
       "      <td>0.0</td>\n",
       "      <td>0.0</td>\n",
       "      <td>4.0</td>\n",
       "    </tr>\n",
       "    <tr>\n",
       "      <th>7</th>\n",
       "      <td>0.0</td>\n",
       "      <td>0.0</td>\n",
       "      <td>0.0</td>\n",
       "    </tr>\n",
       "    <tr>\n",
       "      <th>8</th>\n",
       "      <td>0.0</td>\n",
       "      <td>0.0</td>\n",
       "      <td>0.0</td>\n",
       "    </tr>\n",
       "    <tr>\n",
       "      <th>9</th>\n",
       "      <td>0.0</td>\n",
       "      <td>3.0</td>\n",
       "      <td>0.0</td>\n",
       "    </tr>\n",
       "    <tr>\n",
       "      <th>10</th>\n",
       "      <td>0.0</td>\n",
       "      <td>0.0</td>\n",
       "      <td>0.0</td>\n",
       "    </tr>\n",
       "  </tbody>\n",
       "</table>\n",
       "</div>"
      ],
      "text/plain": [
       "    Total.Serious.Injuries  Total.Minor.Injuries  Total.Fatal.Injuries\n",
       "1                      0.0                   0.0                   4.0\n",
       "2                      NaN                   NaN                   3.0\n",
       "3                      0.0                   0.0                   2.0\n",
       "4                      2.0                   NaN                   1.0\n",
       "5                      NaN                   1.0                   NaN\n",
       "6                      0.0                   0.0                   4.0\n",
       "7                      0.0                   0.0                   0.0\n",
       "8                      0.0                   0.0                   0.0\n",
       "9                      0.0                   3.0                   0.0\n",
       "10                     0.0                   0.0                   0.0"
      ]
     },
     "execution_count": 70,
     "metadata": {},
     "output_type": "execute_result"
    }
   ],
   "source": [
    "us_accident[[\"Total.Serious.Injuries\",\"Total.Minor.Injuries\",\"Total.Fatal.Injuries\"]].head(10)"
   ]
  },
  {
   "cell_type": "code",
   "execution_count": 37,
   "id": "0a02684f-4aa0-4d08-b7a2-49c54409dd3f",
   "metadata": {},
   "outputs": [],
   "source": [
    "us_accident = us_accident.dropna(subset=[\"Total.Serious.Injuries\", \"Total.Minor.Injuries\", \"Total.Fatal.Injuries\"], how='all')\n"
   ]
  },
  {
   "cell_type": "markdown",
   "id": "5712ddc6-8f3f-4de6-bae0-56d32f2775e1",
   "metadata": {},
   "source": [
    "Drop columns that might not be informative to my analysis."
   ]
  },
  {
   "cell_type": "code",
   "execution_count": 80,
   "id": "66acaae6-7cb5-4676-8001-dd90869efc18",
   "metadata": {},
   "outputs": [],
   "source": [
    "us_accident.drop(columns=['Registration.Number', 'Publication.Date'], inplace = True)\n"
   ]
  },
  {
   "cell_type": "markdown",
   "id": "1da4fc6b-25b3-42be-95dd-7a4f81c8e301",
   "metadata": {},
   "source": [
    "## Data Imputation\n",
    "- Accident number has information on location of airplane accident, type of category either commercial or category, year."
   ]
  },
  {
   "cell_type": "code",
   "execution_count": 90,
   "id": "e7ec6b98-2dee-4be9-aeda-bb858b542a68",
   "metadata": {},
   "outputs": [],
   "source": [
    "\n",
    "injury_cols = [\"Total.Serious.Injuries\", \"Total.Minor.Injuries\", \"Total.Fatal.Injuries\"]\n",
    "injury_na = us_accident[injury_cols].notna().any(axis=1)\n",
    "us_accident.loc[injury_na, injury_cols] = us_accident.loc[injury_na, injury_cols].fillna(0)\n"
   ]
  },
  {
   "cell_type": "code",
   "execution_count": 96,
   "id": "30415e8f-ca16-4c40-a020-b80ba318dbab",
   "metadata": {},
   "outputs": [],
   "source": [
    "us_accident = us_accident.loc[us_accident['Country'] == 'United States'].assign(State=us_accident['Location'].str.extract(r',\\s*([A-Z]{2})$', expand=False))\n"
   ]
  },
  {
   "cell_type": "code",
   "execution_count": 98,
   "id": "f7a6e709-b2ca-4dcd-b84c-2c7b79564027",
   "metadata": {},
   "outputs": [
    {
     "data": {
      "text/plain": [
       "array(['CA', 'VA', 'OH', 'MA', 'MN', 'WA', 'NJ', 'FL', 'NM', 'AL', 'LA',\n",
       "       'TX', 'OK', 'AR', 'UT', 'AK', 'PA', 'MI', 'GA', 'NC', 'NY', 'MT',\n",
       "       'OR', 'NV', 'IN', 'AZ', 'MO', 'WY', 'IL', 'SC', 'MD', 'HI', 'CO',\n",
       "       'WV', 'MS', 'DC', 'ID', 'VT', 'KS', 'NH', 'IA', 'WI', 'KY', 'CT',\n",
       "       'TN', 'ME', 'SD', 'NE', 'RI', 'ND', 'DE', nan, 'PR', 'GU', 'PO',\n",
       "       'GM', 'AO', 'UN', 'VI', 'OF', 'CB'], dtype=object)"
      ]
     },
     "execution_count": 98,
     "metadata": {},
     "output_type": "execute_result"
    }
   ],
   "source": [
    "us_accident['State'].unique()"
   ]
  },
  {
   "cell_type": "code",
   "execution_count": 150,
   "id": "3bf3015b-57ac-4fcb-a89c-dbb8bf13b81d",
   "metadata": {},
   "outputs": [],
   "source": [
    "state_dict = dict(zip(us_codes['Abbreviation'], us_codes['US_State']))\n"
   ]
  },
  {
   "cell_type": "code",
   "execution_count": 152,
   "id": "ecc49503-019d-46fd-b8e6-751bbd4de45f",
   "metadata": {},
   "outputs": [],
   "source": [
    "us_accident['State_Name'] = us_accident['State'].map(state_dict)\n"
   ]
  },
  {
   "cell_type": "code",
   "execution_count": 154,
   "id": "0e4b83eb-91fd-45c1-830b-d7c3ae42e15c",
   "metadata": {},
   "outputs": [
    {
     "data": {
      "text/plain": [
       "array(['California', 'Ohio', 'Massachusetts', 'Minnesota', 'Washington',\n",
       "       'New Jersey', 'Florida', 'New Mexico', 'Alabama', 'Louisiana',\n",
       "       'Texas', 'Oklahoma', 'Arkansas', 'Utah', 'Alaska', 'Pennsylvania',\n",
       "       'Michigan', 'Georgia', 'Virginia', 'North Carolina', 'New York',\n",
       "       'Montana', 'Oregon', 'Nevada', 'Indiana', 'Arizona', 'Missouri',\n",
       "       'Wyoming', 'Illinois', 'South Carolina', 'Maryland', 'Hawaii',\n",
       "       'Colorado', 'West Virginia', 'Mississippi', 'Washington_DC',\n",
       "       'Idaho', 'Vermont', 'Kansas', 'New Hampshire', 'Iowa', 'Wisconsin',\n",
       "       'Kentucky', 'Connecticut', 'Tennessee', 'Maine', 'South Dakota',\n",
       "       'Nebraska', 'Rhode Island', 'North Dakota', 'Delaware', nan,\n",
       "       'Puerto Rico', 'Guam', 'Pacific ocean', 'Gulf of mexico',\n",
       "       'Atlantic ocean', 'Virgin Islands'], dtype=object)"
      ]
     },
     "execution_count": 154,
     "metadata": {},
     "output_type": "execute_result"
    }
   ],
   "source": [
    "us_accident['State_Name'].unique()"
   ]
  },
  {
   "cell_type": "code",
   "execution_count": 110,
   "id": "7771d991-8dc6-4d22-8314-ffd0132d82c1",
   "metadata": {},
   "outputs": [],
   "source": [
    "us_accident['Event.Date'] = pd.to_datetime(us_accident['Event.Date'], errors='coerce')\n",
    "us_accident['Event_year'] = us_accident['Event.Date'].dt.year"
   ]
  },
  {
   "cell_type": "code",
   "execution_count": 112,
   "id": "81efb7b2-8781-40d8-a965-c5e7ba1e4797",
   "metadata": {},
   "outputs": [
    {
     "data": {
      "text/plain": [
       "1        1962\n",
       "2        1974\n",
       "3        1977\n",
       "4        1979\n",
       "5        1979\n",
       "         ... \n",
       "88884    2022\n",
       "88885    2022\n",
       "88886    2022\n",
       "88887    2022\n",
       "88888    2022\n",
       "Name: Event_year, Length: 74972, dtype: int32"
      ]
     },
     "execution_count": 112,
     "metadata": {},
     "output_type": "execute_result"
    }
   ],
   "source": [
    "us_accident['Event_year']\n"
   ]
  },
  {
   "cell_type": "code",
   "execution_count": 116,
   "id": "67a15c6b-d590-4839-8dc7-76bf1a108cd1",
   "metadata": {},
   "outputs": [
    {
     "data": {
      "text/html": [
       "<div>\n",
       "<style scoped>\n",
       "    .dataframe tbody tr th:only-of-type {\n",
       "        vertical-align: middle;\n",
       "    }\n",
       "\n",
       "    .dataframe tbody tr th {\n",
       "        vertical-align: top;\n",
       "    }\n",
       "\n",
       "    .dataframe thead th {\n",
       "        text-align: right;\n",
       "    }\n",
       "</style>\n",
       "<table border=\"1\" class=\"dataframe\">\n",
       "  <thead>\n",
       "    <tr style=\"text-align: right;\">\n",
       "      <th></th>\n",
       "      <th>Event.Id</th>\n",
       "      <th>Investigation.Type</th>\n",
       "      <th>Accident.Number</th>\n",
       "      <th>Event.Date</th>\n",
       "      <th>Location</th>\n",
       "      <th>Country</th>\n",
       "      <th>Injury.Severity</th>\n",
       "      <th>Aircraft.damage</th>\n",
       "      <th>Make</th>\n",
       "      <th>Model</th>\n",
       "      <th>...</th>\n",
       "      <th>Purpose.of.flight</th>\n",
       "      <th>Total.Fatal.Injuries</th>\n",
       "      <th>Total.Serious.Injuries</th>\n",
       "      <th>Total.Minor.Injuries</th>\n",
       "      <th>Total.Uninjured</th>\n",
       "      <th>Weather.Condition</th>\n",
       "      <th>Broad.phase.of.flight</th>\n",
       "      <th>Report.Status</th>\n",
       "      <th>State</th>\n",
       "      <th>Event_year</th>\n",
       "    </tr>\n",
       "  </thead>\n",
       "  <tbody>\n",
       "    <tr>\n",
       "      <th>79</th>\n",
       "      <td>20020917X01897</td>\n",
       "      <td>Incident</td>\n",
       "      <td>CHI82IA026</td>\n",
       "      <td>1982-01-12</td>\n",
       "      <td>CHICAGO, IL</td>\n",
       "      <td>United States</td>\n",
       "      <td>Incident</td>\n",
       "      <td>NaN</td>\n",
       "      <td>Lockheed</td>\n",
       "      <td>L-1011</td>\n",
       "      <td>...</td>\n",
       "      <td>Unknown</td>\n",
       "      <td>0.0</td>\n",
       "      <td>0.0</td>\n",
       "      <td>0.0</td>\n",
       "      <td>149.0</td>\n",
       "      <td>UNK</td>\n",
       "      <td>Cruise</td>\n",
       "      <td>Probable Cause</td>\n",
       "      <td>IL</td>\n",
       "      <td>1982</td>\n",
       "    </tr>\n",
       "    <tr>\n",
       "      <th>149</th>\n",
       "      <td>20020917X01767</td>\n",
       "      <td>Incident</td>\n",
       "      <td>ATL82IA041</td>\n",
       "      <td>1982-01-22</td>\n",
       "      <td>LOUISVILLE, KY</td>\n",
       "      <td>United States</td>\n",
       "      <td>Incident</td>\n",
       "      <td>NaN</td>\n",
       "      <td>Dassault/sud</td>\n",
       "      <td>FALCON 20</td>\n",
       "      <td>...</td>\n",
       "      <td>Unknown</td>\n",
       "      <td>0.0</td>\n",
       "      <td>0.0</td>\n",
       "      <td>0.0</td>\n",
       "      <td>2.0</td>\n",
       "      <td>VMC</td>\n",
       "      <td>Descent</td>\n",
       "      <td>Probable Cause</td>\n",
       "      <td>KY</td>\n",
       "      <td>1982</td>\n",
       "    </tr>\n",
       "    <tr>\n",
       "      <th>191</th>\n",
       "      <td>20020917X01768</td>\n",
       "      <td>Incident</td>\n",
       "      <td>ATL82IA042</td>\n",
       "      <td>1982-01-29</td>\n",
       "      <td>ATLANTA, GA</td>\n",
       "      <td>United States</td>\n",
       "      <td>Incident</td>\n",
       "      <td>NaN</td>\n",
       "      <td>Beech</td>\n",
       "      <td>B200</td>\n",
       "      <td>...</td>\n",
       "      <td>Executive/corporate</td>\n",
       "      <td>0.0</td>\n",
       "      <td>0.0</td>\n",
       "      <td>0.0</td>\n",
       "      <td>2.0</td>\n",
       "      <td>VMC</td>\n",
       "      <td>Cruise</td>\n",
       "      <td>Probable Cause</td>\n",
       "      <td>GA</td>\n",
       "      <td>1982</td>\n",
       "    </tr>\n",
       "    <tr>\n",
       "      <th>279</th>\n",
       "      <td>20020917X01769</td>\n",
       "      <td>Incident</td>\n",
       "      <td>ATL82IA051</td>\n",
       "      <td>1982-02-09</td>\n",
       "      <td>BIRMINGHAM, AL</td>\n",
       "      <td>United States</td>\n",
       "      <td>Incident</td>\n",
       "      <td>NaN</td>\n",
       "      <td>Beech</td>\n",
       "      <td>200</td>\n",
       "      <td>...</td>\n",
       "      <td>Executive/corporate</td>\n",
       "      <td>0.0</td>\n",
       "      <td>0.0</td>\n",
       "      <td>0.0</td>\n",
       "      <td>10.0</td>\n",
       "      <td>IMC</td>\n",
       "      <td>Takeoff</td>\n",
       "      <td>Probable Cause</td>\n",
       "      <td>AL</td>\n",
       "      <td>1982</td>\n",
       "    </tr>\n",
       "    <tr>\n",
       "      <th>294</th>\n",
       "      <td>20020917X02571</td>\n",
       "      <td>Incident</td>\n",
       "      <td>NYC82IA036</td>\n",
       "      <td>1982-02-12</td>\n",
       "      <td>JAMAICA, NY</td>\n",
       "      <td>United States</td>\n",
       "      <td>Incident</td>\n",
       "      <td>NaN</td>\n",
       "      <td>De Havilland</td>\n",
       "      <td>DHC-6-100</td>\n",
       "      <td>...</td>\n",
       "      <td>Unknown</td>\n",
       "      <td>0.0</td>\n",
       "      <td>0.0</td>\n",
       "      <td>0.0</td>\n",
       "      <td>7.0</td>\n",
       "      <td>VMC</td>\n",
       "      <td>Cruise</td>\n",
       "      <td>Probable Cause</td>\n",
       "      <td>NY</td>\n",
       "      <td>1982</td>\n",
       "    </tr>\n",
       "    <tr>\n",
       "      <th>...</th>\n",
       "      <td>...</td>\n",
       "      <td>...</td>\n",
       "      <td>...</td>\n",
       "      <td>...</td>\n",
       "      <td>...</td>\n",
       "      <td>...</td>\n",
       "      <td>...</td>\n",
       "      <td>...</td>\n",
       "      <td>...</td>\n",
       "      <td>...</td>\n",
       "      <td>...</td>\n",
       "      <td>...</td>\n",
       "      <td>...</td>\n",
       "      <td>...</td>\n",
       "      <td>...</td>\n",
       "      <td>...</td>\n",
       "      <td>...</td>\n",
       "      <td>...</td>\n",
       "      <td>...</td>\n",
       "      <td>...</td>\n",
       "      <td>...</td>\n",
       "    </tr>\n",
       "    <tr>\n",
       "      <th>88882</th>\n",
       "      <td>20221222106486</td>\n",
       "      <td>Accident</td>\n",
       "      <td>CEN23LA068</td>\n",
       "      <td>2022-12-21</td>\n",
       "      <td>Reserve, LA</td>\n",
       "      <td>United States</td>\n",
       "      <td>Minor</td>\n",
       "      <td>NaN</td>\n",
       "      <td>GRUMMAN AMERICAN AVN. CORP.</td>\n",
       "      <td>AA-5B</td>\n",
       "      <td>...</td>\n",
       "      <td>Instructional</td>\n",
       "      <td>0.0</td>\n",
       "      <td>1.0</td>\n",
       "      <td>0.0</td>\n",
       "      <td>1.0</td>\n",
       "      <td>NaN</td>\n",
       "      <td>NaN</td>\n",
       "      <td>NaN</td>\n",
       "      <td>LA</td>\n",
       "      <td>2022</td>\n",
       "    </tr>\n",
       "    <tr>\n",
       "      <th>88884</th>\n",
       "      <td>20221227106491</td>\n",
       "      <td>Accident</td>\n",
       "      <td>ERA23LA093</td>\n",
       "      <td>2022-12-26</td>\n",
       "      <td>Annapolis, MD</td>\n",
       "      <td>United States</td>\n",
       "      <td>Minor</td>\n",
       "      <td>NaN</td>\n",
       "      <td>PIPER</td>\n",
       "      <td>PA-28-151</td>\n",
       "      <td>...</td>\n",
       "      <td>Personal</td>\n",
       "      <td>0.0</td>\n",
       "      <td>1.0</td>\n",
       "      <td>0.0</td>\n",
       "      <td>0.0</td>\n",
       "      <td>NaN</td>\n",
       "      <td>NaN</td>\n",
       "      <td>NaN</td>\n",
       "      <td>MD</td>\n",
       "      <td>2022</td>\n",
       "    </tr>\n",
       "    <tr>\n",
       "      <th>88885</th>\n",
       "      <td>20221227106494</td>\n",
       "      <td>Accident</td>\n",
       "      <td>ERA23LA095</td>\n",
       "      <td>2022-12-26</td>\n",
       "      <td>Hampton, NH</td>\n",
       "      <td>United States</td>\n",
       "      <td>NaN</td>\n",
       "      <td>NaN</td>\n",
       "      <td>BELLANCA</td>\n",
       "      <td>7ECA</td>\n",
       "      <td>...</td>\n",
       "      <td>NaN</td>\n",
       "      <td>0.0</td>\n",
       "      <td>0.0</td>\n",
       "      <td>0.0</td>\n",
       "      <td>0.0</td>\n",
       "      <td>NaN</td>\n",
       "      <td>NaN</td>\n",
       "      <td>NaN</td>\n",
       "      <td>NH</td>\n",
       "      <td>2022</td>\n",
       "    </tr>\n",
       "    <tr>\n",
       "      <th>88887</th>\n",
       "      <td>20221227106498</td>\n",
       "      <td>Accident</td>\n",
       "      <td>WPR23LA076</td>\n",
       "      <td>2022-12-26</td>\n",
       "      <td>Morgan, UT</td>\n",
       "      <td>United States</td>\n",
       "      <td>NaN</td>\n",
       "      <td>NaN</td>\n",
       "      <td>CESSNA</td>\n",
       "      <td>210N</td>\n",
       "      <td>...</td>\n",
       "      <td>Personal</td>\n",
       "      <td>0.0</td>\n",
       "      <td>0.0</td>\n",
       "      <td>0.0</td>\n",
       "      <td>0.0</td>\n",
       "      <td>NaN</td>\n",
       "      <td>NaN</td>\n",
       "      <td>NaN</td>\n",
       "      <td>UT</td>\n",
       "      <td>2022</td>\n",
       "    </tr>\n",
       "    <tr>\n",
       "      <th>88888</th>\n",
       "      <td>20221230106513</td>\n",
       "      <td>Accident</td>\n",
       "      <td>ERA23LA097</td>\n",
       "      <td>2022-12-29</td>\n",
       "      <td>Athens, GA</td>\n",
       "      <td>United States</td>\n",
       "      <td>Minor</td>\n",
       "      <td>NaN</td>\n",
       "      <td>PIPER</td>\n",
       "      <td>PA-24-260</td>\n",
       "      <td>...</td>\n",
       "      <td>Personal</td>\n",
       "      <td>0.0</td>\n",
       "      <td>1.0</td>\n",
       "      <td>0.0</td>\n",
       "      <td>1.0</td>\n",
       "      <td>NaN</td>\n",
       "      <td>NaN</td>\n",
       "      <td>NaN</td>\n",
       "      <td>GA</td>\n",
       "      <td>2022</td>\n",
       "    </tr>\n",
       "  </tbody>\n",
       "</table>\n",
       "<p>1828 rows × 23 columns</p>\n",
       "</div>"
      ],
      "text/plain": [
       "             Event.Id Investigation.Type Accident.Number Event.Date  \\\n",
       "79     20020917X01897           Incident      CHI82IA026 1982-01-12   \n",
       "149    20020917X01767           Incident      ATL82IA041 1982-01-22   \n",
       "191    20020917X01768           Incident      ATL82IA042 1982-01-29   \n",
       "279    20020917X01769           Incident      ATL82IA051 1982-02-09   \n",
       "294    20020917X02571           Incident      NYC82IA036 1982-02-12   \n",
       "...               ...                ...             ...        ...   \n",
       "88882  20221222106486           Accident      CEN23LA068 2022-12-21   \n",
       "88884  20221227106491           Accident      ERA23LA093 2022-12-26   \n",
       "88885  20221227106494           Accident      ERA23LA095 2022-12-26   \n",
       "88887  20221227106498           Accident      WPR23LA076 2022-12-26   \n",
       "88888  20221230106513           Accident      ERA23LA097 2022-12-29   \n",
       "\n",
       "             Location        Country Injury.Severity Aircraft.damage  \\\n",
       "79        CHICAGO, IL  United States        Incident             NaN   \n",
       "149    LOUISVILLE, KY  United States        Incident             NaN   \n",
       "191       ATLANTA, GA  United States        Incident             NaN   \n",
       "279    BIRMINGHAM, AL  United States        Incident             NaN   \n",
       "294       JAMAICA, NY  United States        Incident             NaN   \n",
       "...               ...            ...             ...             ...   \n",
       "88882     Reserve, LA  United States           Minor             NaN   \n",
       "88884   Annapolis, MD  United States           Minor             NaN   \n",
       "88885     Hampton, NH  United States             NaN             NaN   \n",
       "88887      Morgan, UT  United States             NaN             NaN   \n",
       "88888      Athens, GA  United States           Minor             NaN   \n",
       "\n",
       "                              Make      Model  ...    Purpose.of.flight  \\\n",
       "79                        Lockheed     L-1011  ...              Unknown   \n",
       "149                   Dassault/sud  FALCON 20  ...              Unknown   \n",
       "191                          Beech       B200  ...  Executive/corporate   \n",
       "279                          Beech        200  ...  Executive/corporate   \n",
       "294                   De Havilland  DHC-6-100  ...              Unknown   \n",
       "...                            ...        ...  ...                  ...   \n",
       "88882  GRUMMAN AMERICAN AVN. CORP.      AA-5B  ...        Instructional   \n",
       "88884                        PIPER  PA-28-151  ...             Personal   \n",
       "88885                     BELLANCA       7ECA  ...                  NaN   \n",
       "88887                       CESSNA       210N  ...             Personal   \n",
       "88888                        PIPER  PA-24-260  ...             Personal   \n",
       "\n",
       "       Total.Fatal.Injuries Total.Serious.Injuries Total.Minor.Injuries  \\\n",
       "79                      0.0                    0.0                  0.0   \n",
       "149                     0.0                    0.0                  0.0   \n",
       "191                     0.0                    0.0                  0.0   \n",
       "279                     0.0                    0.0                  0.0   \n",
       "294                     0.0                    0.0                  0.0   \n",
       "...                     ...                    ...                  ...   \n",
       "88882                   0.0                    1.0                  0.0   \n",
       "88884                   0.0                    1.0                  0.0   \n",
       "88885                   0.0                    0.0                  0.0   \n",
       "88887                   0.0                    0.0                  0.0   \n",
       "88888                   0.0                    1.0                  0.0   \n",
       "\n",
       "       Total.Uninjured  Weather.Condition  Broad.phase.of.flight  \\\n",
       "79               149.0                UNK                 Cruise   \n",
       "149                2.0                VMC                Descent   \n",
       "191                2.0                VMC                 Cruise   \n",
       "279               10.0                IMC                Takeoff   \n",
       "294                7.0                VMC                 Cruise   \n",
       "...                ...                ...                    ...   \n",
       "88882              1.0                NaN                    NaN   \n",
       "88884              0.0                NaN                    NaN   \n",
       "88885              0.0                NaN                    NaN   \n",
       "88887              0.0                NaN                    NaN   \n",
       "88888              1.0                NaN                    NaN   \n",
       "\n",
       "        Report.Status State Event_year  \n",
       "79     Probable Cause    IL       1982  \n",
       "149    Probable Cause    KY       1982  \n",
       "191    Probable Cause    GA       1982  \n",
       "279    Probable Cause    AL       1982  \n",
       "294    Probable Cause    NY       1982  \n",
       "...               ...   ...        ...  \n",
       "88882             NaN    LA       2022  \n",
       "88884             NaN    MD       2022  \n",
       "88885             NaN    NH       2022  \n",
       "88887             NaN    UT       2022  \n",
       "88888             NaN    GA       2022  \n",
       "\n",
       "[1828 rows x 23 columns]"
      ]
     },
     "execution_count": 116,
     "metadata": {},
     "output_type": "execute_result"
    }
   ],
   "source": [
    "us_accident.loc[us_accident[\"Aircraft.damage\"].isnull()]"
   ]
  },
  {
   "cell_type": "code",
   "execution_count": 118,
   "id": "7a909006-602c-4d87-be53-81bdd645b6b4",
   "metadata": {},
   "outputs": [],
   "source": [
    "us_accident = us_accident.dropna(subset=['Total.Uninjured'])"
   ]
  },
  {
   "cell_type": "code",
   "execution_count": 156,
   "id": "a2e7b515-f73c-4c3b-b5c6-d94004171ff3",
   "metadata": {},
   "outputs": [
    {
     "data": {
      "text/plain": [
       "Number.of.Engines         1728\n",
       "State_Name                  87\n",
       "Purpose.of.flight            0\n",
       "Event_year                   0\n",
       "State                        0\n",
       "Report.Status                0\n",
       "Broad.phase.of.flight        0\n",
       "Weather.Condition            0\n",
       "Total.Uninjured              0\n",
       "Total.Minor.Injuries         0\n",
       "Total.Serious.Injuries       0\n",
       "Total.Fatal.Injuries         0\n",
       "Event.Id                     0\n",
       "Investigation.Type           0\n",
       "Amateur.Built                0\n",
       "Model                        0\n",
       "Make                         0\n",
       "Aircraft.damage              0\n",
       "Injury.Severity              0\n",
       "Country                      0\n",
       "Location                     0\n",
       "Event.Date                   0\n",
       "Accident.Number              0\n",
       "Engine.Type                  0\n",
       "dtype: int64"
      ]
     },
     "execution_count": 156,
     "metadata": {},
     "output_type": "execute_result"
    }
   ],
   "source": [
    "us_accident.isna().sum().sort_values(ascending = False)"
   ]
  },
  {
   "cell_type": "code",
   "execution_count": 40,
   "id": "741f8c81-1440-4025-bf45-bcfc26d868c7",
   "metadata": {},
   "outputs": [],
   "source": [
    "# Accident_year and month\n"
   ]
  },
  {
   "cell_type": "code",
   "execution_count": 128,
   "id": "1899a927-3361-4ccc-8b04-37fd94b2b689",
   "metadata": {},
   "outputs": [
    {
     "data": {
      "text/plain": [
       "1         PA24-180\n",
       "3              112\n",
       "4              501\n",
       "5              DC9\n",
       "6              180\n",
       "           ...    \n",
       "88884    PA-28-151\n",
       "88885         7ECA\n",
       "88886        8GCBC\n",
       "88887         210N\n",
       "88888    PA-24-260\n",
       "Name: Model, Length: 69987, dtype: object"
      ]
     },
     "execution_count": 128,
     "metadata": {},
     "output_type": "execute_result"
    }
   ],
   "source": [
    "us_accident[\"Model\"]"
   ]
  },
  {
   "cell_type": "code",
   "execution_count": 130,
   "id": "7ee5345e-6472-4fae-8b91-a98173a32c80",
   "metadata": {},
   "outputs": [
    {
     "data": {
      "text/plain": [
       "array(['Unk', 'Imc', 'Vmc', 'Unknown'], dtype=object)"
      ]
     },
     "execution_count": 130,
     "metadata": {},
     "output_type": "execute_result"
    }
   ],
   "source": [
    "us_accident[\"Weather.Condition\"] = us_accident[\"Weather.Condition\"].str.title()\n",
    "us_accident[\"Weather.Condition\"].unique()"
   ]
  },
  {
   "cell_type": "code",
   "execution_count": 158,
   "id": "6dd9661a-55c8-4726-bf46-d8120f1f1bee",
   "metadata": {},
   "outputs": [],
   "source": [
    "categorical_cols = us_accident.select_dtypes(include='object').columns\n",
    "us_accident[categorical_cols] = us_accident[categorical_cols].fillna(\"Unknown\")"
   ]
  },
  {
   "cell_type": "code",
   "execution_count": 160,
   "id": "5bb7c3cd-8049-4072-b22d-df00bb1c4153",
   "metadata": {},
   "outputs": [],
   "source": [
    "numerical_cols = us_accident.select_dtypes(include=['number']).columns\n",
    "us_accident[numerical_cols] = us_accident[numerical_cols].fillna(0)"
   ]
  },
  {
   "cell_type": "code",
   "execution_count": 162,
   "id": "32397280-b721-484a-9ea1-bd7498c23c84",
   "metadata": {},
   "outputs": [
    {
     "name": "stdout",
     "output_type": "stream",
     "text": [
      "<class 'pandas.core.frame.DataFrame'>\n",
      "Index: 69987 entries, 1 to 88888\n",
      "Data columns (total 24 columns):\n",
      " #   Column                  Non-Null Count  Dtype         \n",
      "---  ------                  --------------  -----         \n",
      " 0   Event.Id                69987 non-null  object        \n",
      " 1   Investigation.Type      69987 non-null  object        \n",
      " 2   Accident.Number         69987 non-null  object        \n",
      " 3   Event.Date              69987 non-null  datetime64[ns]\n",
      " 4   Location                69987 non-null  object        \n",
      " 5   Country                 69987 non-null  object        \n",
      " 6   Injury.Severity         69987 non-null  object        \n",
      " 7   Aircraft.damage         69987 non-null  object        \n",
      " 8   Make                    69987 non-null  object        \n",
      " 9   Model                   69987 non-null  object        \n",
      " 10  Amateur.Built           69987 non-null  object        \n",
      " 11  Number.of.Engines       69987 non-null  float64       \n",
      " 12  Engine.Type             69987 non-null  object        \n",
      " 13  Purpose.of.flight       69987 non-null  object        \n",
      " 14  Total.Fatal.Injuries    69987 non-null  float64       \n",
      " 15  Total.Serious.Injuries  69987 non-null  float64       \n",
      " 16  Total.Minor.Injuries    69987 non-null  float64       \n",
      " 17  Total.Uninjured         69987 non-null  float64       \n",
      " 18  Weather.Condition       69987 non-null  object        \n",
      " 19  Broad.phase.of.flight   69987 non-null  object        \n",
      " 20  Report.Status           69987 non-null  object        \n",
      " 21  State                   69987 non-null  object        \n",
      " 22  Event_year              69987 non-null  int32         \n",
      " 23  State_Name              69987 non-null  object        \n",
      "dtypes: datetime64[ns](1), float64(5), int32(1), object(17)\n",
      "memory usage: 13.1+ MB\n"
     ]
    }
   ],
   "source": [
    "us_accident.info()"
   ]
  },
  {
   "cell_type": "code",
   "execution_count": 134,
   "id": "be61e706-07fc-4364-b843-a257e0d2db06",
   "metadata": {},
   "outputs": [
    {
     "data": {
      "text/plain": [
       "Index(['Event.Id', 'Investigation.Type', 'Accident.Number', 'Event.Date',\n",
       "       'Location', 'Country', 'Injury.Severity', 'Aircraft.damage', 'Make',\n",
       "       'Model', 'Amateur.Built', 'Number.of.Engines', 'Engine.Type',\n",
       "       'Purpose.of.flight', 'Total.Fatal.Injuries', 'Total.Serious.Injuries',\n",
       "       'Total.Minor.Injuries', 'Total.Uninjured', 'Weather.Condition',\n",
       "       'Broad.phase.of.flight', 'Report.Status', 'State', 'Event_year'],\n",
       "      dtype='object')"
      ]
     },
     "execution_count": 134,
     "metadata": {},
     "output_type": "execute_result"
    }
   ],
   "source": [
    "us_accident.columns"
   ]
  },
  {
   "cell_type": "code",
   "execution_count": 136,
   "id": "7043f59c-e3f5-4cb1-abfe-bc7b7e3dcd2e",
   "metadata": {},
   "outputs": [
    {
     "data": {
      "text/html": [
       "<div>\n",
       "<style scoped>\n",
       "    .dataframe tbody tr th:only-of-type {\n",
       "        vertical-align: middle;\n",
       "    }\n",
       "\n",
       "    .dataframe tbody tr th {\n",
       "        vertical-align: top;\n",
       "    }\n",
       "\n",
       "    .dataframe thead th {\n",
       "        text-align: right;\n",
       "    }\n",
       "</style>\n",
       "<table border=\"1\" class=\"dataframe\">\n",
       "  <thead>\n",
       "    <tr style=\"text-align: right;\">\n",
       "      <th></th>\n",
       "      <th>Event.Id</th>\n",
       "      <th>Investigation.Type</th>\n",
       "      <th>Accident.Number</th>\n",
       "      <th>Event.Date</th>\n",
       "      <th>Location</th>\n",
       "      <th>Country</th>\n",
       "      <th>Injury.Severity</th>\n",
       "      <th>Aircraft.damage</th>\n",
       "      <th>Make</th>\n",
       "      <th>Model</th>\n",
       "      <th>...</th>\n",
       "      <th>Purpose.of.flight</th>\n",
       "      <th>Total.Fatal.Injuries</th>\n",
       "      <th>Total.Serious.Injuries</th>\n",
       "      <th>Total.Minor.Injuries</th>\n",
       "      <th>Total.Uninjured</th>\n",
       "      <th>Weather.Condition</th>\n",
       "      <th>Broad.phase.of.flight</th>\n",
       "      <th>Report.Status</th>\n",
       "      <th>State</th>\n",
       "      <th>Event_year</th>\n",
       "    </tr>\n",
       "  </thead>\n",
       "  <tbody>\n",
       "    <tr>\n",
       "      <th>1</th>\n",
       "      <td>20001218X45447</td>\n",
       "      <td>Accident</td>\n",
       "      <td>LAX94LA336</td>\n",
       "      <td>1962-07-19</td>\n",
       "      <td>BRIDGEPORT, CA</td>\n",
       "      <td>United States</td>\n",
       "      <td>Fatal(4)</td>\n",
       "      <td>Destroyed</td>\n",
       "      <td>Piper</td>\n",
       "      <td>PA24-180</td>\n",
       "      <td>...</td>\n",
       "      <td>Personal</td>\n",
       "      <td>4.0</td>\n",
       "      <td>0.0</td>\n",
       "      <td>0.0</td>\n",
       "      <td>0.0</td>\n",
       "      <td>Unk</td>\n",
       "      <td>Unknown</td>\n",
       "      <td>Probable Cause</td>\n",
       "      <td>CA</td>\n",
       "      <td>1962</td>\n",
       "    </tr>\n",
       "    <tr>\n",
       "      <th>3</th>\n",
       "      <td>20001218X45448</td>\n",
       "      <td>Accident</td>\n",
       "      <td>LAX96LA321</td>\n",
       "      <td>1977-06-19</td>\n",
       "      <td>EUREKA, CA</td>\n",
       "      <td>United States</td>\n",
       "      <td>Fatal(2)</td>\n",
       "      <td>Destroyed</td>\n",
       "      <td>Rockwell</td>\n",
       "      <td>112</td>\n",
       "      <td>...</td>\n",
       "      <td>Personal</td>\n",
       "      <td>2.0</td>\n",
       "      <td>0.0</td>\n",
       "      <td>0.0</td>\n",
       "      <td>0.0</td>\n",
       "      <td>Imc</td>\n",
       "      <td>Cruise</td>\n",
       "      <td>Probable Cause</td>\n",
       "      <td>CA</td>\n",
       "      <td>1977</td>\n",
       "    </tr>\n",
       "    <tr>\n",
       "      <th>4</th>\n",
       "      <td>20041105X01764</td>\n",
       "      <td>Accident</td>\n",
       "      <td>CHI79FA064</td>\n",
       "      <td>1979-08-02</td>\n",
       "      <td>Canton, OH</td>\n",
       "      <td>United States</td>\n",
       "      <td>Fatal(1)</td>\n",
       "      <td>Destroyed</td>\n",
       "      <td>Cessna</td>\n",
       "      <td>501</td>\n",
       "      <td>...</td>\n",
       "      <td>Personal</td>\n",
       "      <td>1.0</td>\n",
       "      <td>2.0</td>\n",
       "      <td>0.0</td>\n",
       "      <td>0.0</td>\n",
       "      <td>Vmc</td>\n",
       "      <td>Approach</td>\n",
       "      <td>Probable Cause</td>\n",
       "      <td>OH</td>\n",
       "      <td>1979</td>\n",
       "    </tr>\n",
       "    <tr>\n",
       "      <th>5</th>\n",
       "      <td>20170710X52551</td>\n",
       "      <td>Accident</td>\n",
       "      <td>NYC79AA106</td>\n",
       "      <td>1979-09-17</td>\n",
       "      <td>BOSTON, MA</td>\n",
       "      <td>United States</td>\n",
       "      <td>Non-Fatal</td>\n",
       "      <td>Substantial</td>\n",
       "      <td>Mcdonnell Douglas</td>\n",
       "      <td>DC9</td>\n",
       "      <td>...</td>\n",
       "      <td>Unknown</td>\n",
       "      <td>0.0</td>\n",
       "      <td>0.0</td>\n",
       "      <td>1.0</td>\n",
       "      <td>44.0</td>\n",
       "      <td>Vmc</td>\n",
       "      <td>Climb</td>\n",
       "      <td>Probable Cause</td>\n",
       "      <td>MA</td>\n",
       "      <td>1979</td>\n",
       "    </tr>\n",
       "    <tr>\n",
       "      <th>6</th>\n",
       "      <td>20001218X45446</td>\n",
       "      <td>Accident</td>\n",
       "      <td>CHI81LA106</td>\n",
       "      <td>1981-08-01</td>\n",
       "      <td>COTTON, MN</td>\n",
       "      <td>United States</td>\n",
       "      <td>Fatal(4)</td>\n",
       "      <td>Destroyed</td>\n",
       "      <td>Cessna</td>\n",
       "      <td>180</td>\n",
       "      <td>...</td>\n",
       "      <td>Personal</td>\n",
       "      <td>4.0</td>\n",
       "      <td>0.0</td>\n",
       "      <td>0.0</td>\n",
       "      <td>0.0</td>\n",
       "      <td>Imc</td>\n",
       "      <td>Unknown</td>\n",
       "      <td>Probable Cause</td>\n",
       "      <td>MN</td>\n",
       "      <td>1981</td>\n",
       "    </tr>\n",
       "  </tbody>\n",
       "</table>\n",
       "<p>5 rows × 23 columns</p>\n",
       "</div>"
      ],
      "text/plain": [
       "         Event.Id Investigation.Type Accident.Number Event.Date  \\\n",
       "1  20001218X45447           Accident      LAX94LA336 1962-07-19   \n",
       "3  20001218X45448           Accident      LAX96LA321 1977-06-19   \n",
       "4  20041105X01764           Accident      CHI79FA064 1979-08-02   \n",
       "5  20170710X52551           Accident      NYC79AA106 1979-09-17   \n",
       "6  20001218X45446           Accident      CHI81LA106 1981-08-01   \n",
       "\n",
       "         Location        Country Injury.Severity Aircraft.damage  \\\n",
       "1  BRIDGEPORT, CA  United States        Fatal(4)       Destroyed   \n",
       "3      EUREKA, CA  United States        Fatal(2)       Destroyed   \n",
       "4      Canton, OH  United States        Fatal(1)       Destroyed   \n",
       "5      BOSTON, MA  United States       Non-Fatal     Substantial   \n",
       "6      COTTON, MN  United States        Fatal(4)       Destroyed   \n",
       "\n",
       "                Make     Model  ... Purpose.of.flight  Total.Fatal.Injuries  \\\n",
       "1              Piper  PA24-180  ...          Personal                   4.0   \n",
       "3           Rockwell       112  ...          Personal                   2.0   \n",
       "4             Cessna       501  ...          Personal                   1.0   \n",
       "5  Mcdonnell Douglas       DC9  ...           Unknown                   0.0   \n",
       "6             Cessna       180  ...          Personal                   4.0   \n",
       "\n",
       "  Total.Serious.Injuries Total.Minor.Injuries  Total.Uninjured  \\\n",
       "1                    0.0                  0.0              0.0   \n",
       "3                    0.0                  0.0              0.0   \n",
       "4                    2.0                  0.0              0.0   \n",
       "5                    0.0                  1.0             44.0   \n",
       "6                    0.0                  0.0              0.0   \n",
       "\n",
       "   Weather.Condition  Broad.phase.of.flight   Report.Status State Event_year  \n",
       "1                Unk                Unknown  Probable Cause    CA       1962  \n",
       "3                Imc                 Cruise  Probable Cause    CA       1977  \n",
       "4                Vmc               Approach  Probable Cause    OH       1979  \n",
       "5                Vmc                  Climb  Probable Cause    MA       1979  \n",
       "6                Imc                Unknown  Probable Cause    MN       1981  \n",
       "\n",
       "[5 rows x 23 columns]"
      ]
     },
     "execution_count": 136,
     "metadata": {},
     "output_type": "execute_result"
    }
   ],
   "source": [
    "us_accident.head()"
   ]
  },
  {
   "cell_type": "code",
   "execution_count": 282,
   "id": "7fc7fdc1-2827-4f6a-9da1-13836cb8826a",
   "metadata": {},
   "outputs": [
    {
     "data": {
      "text/html": [
       "<div>\n",
       "<style scoped>\n",
       "    .dataframe tbody tr th:only-of-type {\n",
       "        vertical-align: middle;\n",
       "    }\n",
       "\n",
       "    .dataframe tbody tr th {\n",
       "        vertical-align: top;\n",
       "    }\n",
       "\n",
       "    .dataframe thead th {\n",
       "        text-align: right;\n",
       "    }\n",
       "</style>\n",
       "<table border=\"1\" class=\"dataframe\">\n",
       "  <thead>\n",
       "    <tr style=\"text-align: right;\">\n",
       "      <th></th>\n",
       "      <th>Country</th>\n",
       "      <th>Count</th>\n",
       "    </tr>\n",
       "  </thead>\n",
       "  <tbody>\n",
       "    <tr>\n",
       "      <th>207</th>\n",
       "      <td>United States</td>\n",
       "      <td>82248</td>\n",
       "    </tr>\n",
       "    <tr>\n",
       "      <th>29</th>\n",
       "      <td>Brazil</td>\n",
       "      <td>374</td>\n",
       "    </tr>\n",
       "    <tr>\n",
       "      <th>35</th>\n",
       "      <td>Canada</td>\n",
       "      <td>359</td>\n",
       "    </tr>\n",
       "    <tr>\n",
       "      <th>127</th>\n",
       "      <td>Mexico</td>\n",
       "      <td>358</td>\n",
       "    </tr>\n",
       "    <tr>\n",
       "      <th>206</th>\n",
       "      <td>United Kingdom</td>\n",
       "      <td>344</td>\n",
       "    </tr>\n",
       "    <tr>\n",
       "      <th>13</th>\n",
       "      <td>Australia</td>\n",
       "      <td>300</td>\n",
       "    </tr>\n",
       "    <tr>\n",
       "      <th>66</th>\n",
       "      <td>France</td>\n",
       "      <td>236</td>\n",
       "    </tr>\n",
       "    <tr>\n",
       "      <th>184</th>\n",
       "      <td>Spain</td>\n",
       "      <td>226</td>\n",
       "    </tr>\n",
       "    <tr>\n",
       "      <th>16</th>\n",
       "      <td>Bahamas</td>\n",
       "      <td>216</td>\n",
       "    </tr>\n",
       "    <tr>\n",
       "      <th>73</th>\n",
       "      <td>Germany</td>\n",
       "      <td>215</td>\n",
       "    </tr>\n",
       "  </tbody>\n",
       "</table>\n",
       "</div>"
      ],
      "text/plain": [
       "            Country  Count\n",
       "207   United States  82248\n",
       "29           Brazil    374\n",
       "35           Canada    359\n",
       "127          Mexico    358\n",
       "206  United Kingdom    344\n",
       "13        Australia    300\n",
       "66           France    236\n",
       "184           Spain    226\n",
       "16          Bahamas    216\n",
       "73          Germany    215"
      ]
     },
     "execution_count": 282,
     "metadata": {},
     "output_type": "execute_result"
    }
   ],
   "source": [
    "df_reports_count = df.groupby(\"Country\").size().reset_index(name=\"Count\").sort_values(by=\"Count\", ascending=False)\n",
    "df_reports_count.head(10)"
   ]
  },
  {
   "cell_type": "markdown",
   "id": "1a5167b2-70de-4028-b87a-bebd5b2901b8",
   "metadata": {},
   "source": [
    "## Data Visualization"
   ]
  },
  {
   "cell_type": "code",
   "execution_count": 138,
   "id": "5748ede9-d1f4-4e9b-8fed-12bb916300bb",
   "metadata": {},
   "outputs": [
    {
     "data": {
      "image/png": "[encoded data removed]",
      "text/plain": [
       "<Figure size 1200x1000 with 1 Axes>"
      ]
     },
     "metadata": {},
     "output_type": "display_data"
    }
   ],
   "source": [
    "us_accident['Make'] = us_accident['Make'].str.title()\n",
    "top_makes = us_accident[\"Make\"].value_counts().head(10)\n",
    "plt.figure(figsize = (12,10))\n",
    "sns.barplot(x = top_makes.values, y = top_makes.index)\n",
    "plt.title(\"Top 10 Aircraft makes involved in accidents\")\n",
    "plt.xlabel(\"Aircraft Make\")\n",
    "plt.ylabel(\"Count\")\n",
    "plt.show()\n"
   ]
  },
  {
   "cell_type": "code",
   "execution_count": 140,
   "id": "9c2c9aa2-eed8-4543-ba2e-21cf24126e83",
   "metadata": {},
   "outputs": [
    {
     "data": {
      "text/plain": [
       "array(['Piper', 'Rockwell', 'Cessna', ..., 'James R Dernovsek',\n",
       "       'Orlican S R O', 'Royse Ralph L'], dtype=object)"
      ]
     },
     "execution_count": 140,
     "metadata": {},
     "output_type": "execute_result"
    }
   ],
   "source": [
    "us_accident[\"Make\"].unique()"
   ]
  },
  {
   "cell_type": "code",
   "execution_count": 142,
   "id": "2f1bac25-a944-4933-adbb-aa6bc8d15674",
   "metadata": {},
   "outputs": [
    {
     "data": {
      "image/png": "[encoded data removed]",
      "text/plain": [
       "<Figure size 900x600 with 1 Axes>"
      ]
     },
     "metadata": {},
     "output_type": "display_data"
    }
   ],
   "source": [
    "us_accident['Weather.Condition'] = us_accident['Weather.Condition'].str.title()\n",
    "Weather = us_accident[\"Weather.Condition\"].value_counts()\n",
    "plt.figure(figsize = (9,6))\n",
    "sns.barplot(y = Weather.values, x = Weather.index)\n",
    "plt.title(\"Weather Condition\")\n",
    "plt.xlabel(\"Weather Condition\")\n",
    "plt.ylabel(\"Count\")\n",
    "plt.show()"
   ]
  },
  {
   "cell_type": "code",
   "execution_count": 144,
   "id": "35c0e4d6-6c89-473b-bc86-437e9aa397e8",
   "metadata": {},
   "outputs": [
    {
     "data": {
      "image/png": "[encoded data removed]",
      "text/plain": [
       "<Figure size 1200x1000 with 1 Axes>"
      ]
     },
     "metadata": {},
     "output_type": "display_data"
    }
   ],
   "source": [
    "purpose_flight = us_accident[\"Purpose.of.flight\"].value_counts().head(10)\n",
    "plt.figure(figsize = (12,10))\n",
    "sns.barplot(x = purpose_flight.values, y = purpose_flight.index)\n",
    "plt.title(\"Purpose of flight\")\n",
    "plt.xlabel(\"Purpose of flight\")\n",
    "plt.ylabel(\"Count\")\n",
    "plt.show()"
   ]
  },
  {
   "cell_type": "code",
   "execution_count": 164,
   "id": "911e8537-c386-497c-b8bf-98bc77e19054",
   "metadata": {},
   "outputs": [
    {
     "data": {
      "text/plain": [
       "<Axes: xlabel='State_Name'>"
      ]
     },
     "execution_count": 164,
     "metadata": {},
     "output_type": "execute_result"
    },
    {
     "data": {
      "image/png": "[encoded data removed]",
      "text/plain": [
       "<Figure size 1500x800 with 1 Axes>"
      ]
     },
     "metadata": {},
     "output_type": "display_data"
    }
   ],
   "source": [
    "grouped_injuries = us_accident.groupby([\"State_Name\"])[[\"Total.Fatal.Injuries\",\"Total.Serious.Injuries\",\"Total.Minor.Injuries\"]].sum()\n",
    "grouped_injuries.head(10).plot(kind=\"bar\",figsize = (15,8))"
   ]
  },
  {
   "cell_type": "code",
   "execution_count": null,
   "id": "9e823fd6-598c-44c4-b0e9-68912c083f5a",
   "metadata": {},
   "outputs": [],
   "source": [
    "# Accidents per state"
   ]
  },
  {
   "cell_type": "code",
   "execution_count": 168,
   "id": "00d63391-1ff1-40f0-a4e5-e7e1b063c248",
   "metadata": {},
   "outputs": [
    {
     "data": {
      "image/png": "[encoded data removed]",
      "text/plain": [
       "<Figure size 1200x1000 with 1 Axes>"
      ]
     },
     "metadata": {},
     "output_type": "display_data"
    }
   ],
   "source": [
    "top_states = us_accident[\"State_Name\"].value_counts().head(10)\n",
    "plt.figure(figsize = (12,10))\n",
    "sns.barplot(x = top_states.values, y = top_states.index)\n",
    "plt.title(\"Top 10 States involved in accidents\")\n",
    "plt.xlabel(\"US States\")\n",
    "plt.ylabel(\"Count\")\n",
    "plt.show()"
   ]
  },
  {
   "cell_type": "code",
   "execution_count": 226,
   "id": "e433dcc9-0499-4d8d-a932-3b709bcdce2f",
   "metadata": {},
   "outputs": [
    {
     "data": {
      "image/png": "[encoded data removed]",
      "text/plain": [
       "<Figure size 1200x1000 with 1 Axes>"
      ]
     },
     "metadata": {},
     "output_type": "display_data"
    }
   ],
   "source": [
    "num_engines = us_accident[\"Number.of.Engines\"].value_counts()\n",
    "plt.figure(figsize = (12,10))\n",
    "sns.barplot(y = num_engines.values, x = num_engines.index)\n",
    "plt.title(\"Number of engines per accident\")\n",
    "plt.xlabel(\"Number of engines\")\n",
    "plt.ylabel(\"Count\")\n",
    "plt.show()"
   ]
  },
  {
   "cell_type": "code",
   "execution_count": 222,
   "id": "daa1dd75-c6b7-4535-8fb2-5e6e1ff2e8cf",
   "metadata": {},
   "outputs": [
    {
     "data": {
      "text/plain": [
       "1        1\n",
       "3        1\n",
       "4        0\n",
       "5        2\n",
       "6        1\n",
       "        ..\n",
       "88884    0\n",
       "88885    0\n",
       "88886    1\n",
       "88887    0\n",
       "88888    0\n",
       "Name: Number.of.Engines, Length: 69987, dtype: int32"
      ]
     },
     "execution_count": 222,
     "metadata": {},
     "output_type": "execute_result"
    }
   ],
   "source": [
    "us_accident[\"Number.of.Engines\"] = us_accident[\"Number.of.Engines\"].astype(int)\n",
    "us_accident[\"Number.of.Engines\"]"
   ]
  },
  {
   "cell_type": "code",
   "execution_count": 230,
   "id": "f4f5b4d2-7cae-4556-9c56-04e57b3df5ab",
   "metadata": {},
   "outputs": [
    {
     "data": {
      "image/png": "[encoded data removed]",
      "text/plain": [
       "<Figure size 1200x1000 with 1 Axes>"
      ]
     },
     "metadata": {},
     "output_type": "display_data"
    }
   ],
   "source": [
    "top_model = us_accident[\"Model\"].value_counts().head(10)\n",
    "plt.figure(figsize = (12,10))\n",
    "sns.barplot(y = top_model.values, x = top_model.index)\n",
    "plt.title(\"Models involved in aircraft accidents\")\n",
    "plt.xlabel(\"Aircraft Model\")\n",
    "plt.ylabel(\"Count\")\n",
    "plt.show()"
   ]
  },
  {
   "cell_type": "code",
   "execution_count": 246,
   "id": "f30aec1c-4b01-41a3-afd9-9d54b9afde88",
   "metadata": {},
   "outputs": [
    {
     "data": {
      "image/png": "[encoded data removed]",
      "text/plain": [
       "<Figure size 1200x1000 with 1 Axes>"
      ]
     },
     "metadata": {},
     "output_type": "display_data"
    }
   ],
   "source": [
    "Engine_Type = us_accident[\"Engine.Type\"].value_counts()\n",
    "plt.figure(figsize = (12,10))\n",
    "sns.barplot(y = Engine_Type.values, x = Engine_Type.index)\n",
    "plt.title(\"Engine Types involved in accidents\")\n",
    "plt.xlabel(\"Engine Type\")\n",
    "plt.ylabel(\"Count\")\n",
    "plt.show()\n"
   ]
  },
  {
   "cell_type": "code",
   "execution_count": null,
   "id": "8af7c25f-ed49-4895-aafe-3ed27e892d09",
   "metadata": {},
   "outputs": [],
   "source": []
  },
  {
   "cell_type": "code",
   "execution_count": 170,
   "id": "010fd33a-6bdd-44a5-9eda-2689d68f4744",
   "metadata": {},
   "outputs": [
    {
     "data": {
      "image/png": "[encoded data removed]",
      "text/plain": [
       "<Figure size 1200x1000 with 1 Axes>"
      ]
     },
     "metadata": {},
     "output_type": "display_data"
    }
   ],
   "source": [
    "aircraft_damages = us_accident[\"Aircraft.damage\"].value_counts().head(10)\n",
    "plt.figure(figsize = (12,10))\n",
    "sns.barplot(y = aircraft_damages.values, x = aircraft_damages.index)\n",
    "plt.title(\"Level of Aircraft Damage\")\n",
    "plt.xlabel(\"Aircraft Damage\")\n",
    "plt.ylabel(\"Count\")\n",
    "plt.show()"
   ]
  },
  {
   "cell_type": "code",
   "execution_count": 273,
   "id": "5c19b72a-94d5-49d0-a437-8412d4114700",
   "metadata": {},
   "outputs": [
    {
     "data": {
      "image/png": "[encoded data removed]",
      "text/plain": [
       "<Figure size 1200x1000 with 1 Axes>"
      ]
     },
     "metadata": {},
     "output_type": "display_data"
    }
   ],
   "source": [
    "Flight_phase = df[\"Broad.phase.of.flight\"].value_counts().head(10)\n",
    "plt.figure(figsize = (12,10))\n",
    "sns.barplot(x = Flight_phase.values, y = Flight_phase.index)\n",
    "plt.title(\"Flight_phase\")\n",
    "plt.xlabel(\"Flight_phase\")\n",
    "plt.ylabel(\"Count\")\n",
    "plt.show()"
   ]
  },
  {
   "cell_type": "code",
   "execution_count": 276,
   "id": "bb0aa18b-37ca-4e18-8c6d-1e716474d796",
   "metadata": {},
   "outputs": [
    {
     "data": {
      "text/plain": [
       "<Axes: xlabel='Broad.phase.of.flight'>"
      ]
     },
     "execution_count": 276,
     "metadata": {},
     "output_type": "execute_result"
    },
    {
     "data": {
      "image/png": "[encoded data removed]",
      "text/plain": [
       "<Figure size 1500x700 with 1 Axes>"
      ]
     },
     "metadata": {},
     "output_type": "display_data"
    }
   ],
   "source": [
    "\n",
    "grouped_severity = us_accident.groupby([\"Broad.phase.of.flight\"])[[\"Total.Fatal.Injuries\",\"Total.Serious.Injuries\",\"Total.Minor.Injuries\"]].sum()\n",
    "grouped_severity.head(10).plot(kind=\"bar\",figsize = (15,7))"
   ]
  },
  {
   "cell_type": "code",
   "execution_count": 174,
   "id": "b975c253-16f2-4dcb-9a13-8b05d255fe0c",
   "metadata": {},
   "outputs": [
    {
     "data": {
      "text/plain": [
       "(69987, 24)"
      ]
     },
     "execution_count": 174,
     "metadata": {},
     "output_type": "execute_result"
    }
   ],
   "source": [
    "df.shape"
   ]
  },
  {
   "cell_type": "code",
   "execution_count": 194,
   "id": "265dbee5-8118-4eed-a582-7aebafe7604e",
   "metadata": {},
   "outputs": [
    {
     "data": {
      "text/html": [
       "<div>\n",
       "<style scoped>\n",
       "    .dataframe tbody tr th:only-of-type {\n",
       "        vertical-align: middle;\n",
       "    }\n",
       "\n",
       "    .dataframe tbody tr th {\n",
       "        vertical-align: top;\n",
       "    }\n",
       "\n",
       "    .dataframe thead th {\n",
       "        text-align: right;\n",
       "    }\n",
       "</style>\n",
       "<table border=\"1\" class=\"dataframe\">\n",
       "  <thead>\n",
       "    <tr style=\"text-align: right;\">\n",
       "      <th></th>\n",
       "      <th>Event_year</th>\n",
       "      <th>NumberOfAccidents</th>\n",
       "    </tr>\n",
       "  </thead>\n",
       "  <tbody>\n",
       "    <tr>\n",
       "      <th>0</th>\n",
       "      <td>1962</td>\n",
       "      <td>1</td>\n",
       "    </tr>\n",
       "    <tr>\n",
       "      <th>1</th>\n",
       "      <td>1977</td>\n",
       "      <td>1</td>\n",
       "    </tr>\n",
       "    <tr>\n",
       "      <th>2</th>\n",
       "      <td>1979</td>\n",
       "      <td>2</td>\n",
       "    </tr>\n",
       "    <tr>\n",
       "      <th>3</th>\n",
       "      <td>1981</td>\n",
       "      <td>1</td>\n",
       "    </tr>\n",
       "    <tr>\n",
       "      <th>4</th>\n",
       "      <td>1982</td>\n",
       "      <td>3537</td>\n",
       "    </tr>\n",
       "    <tr>\n",
       "      <th>5</th>\n",
       "      <td>1983</td>\n",
       "      <td>3507</td>\n",
       "    </tr>\n",
       "    <tr>\n",
       "      <th>6</th>\n",
       "      <td>1984</td>\n",
       "      <td>3402</td>\n",
       "    </tr>\n",
       "    <tr>\n",
       "      <th>7</th>\n",
       "      <td>1985</td>\n",
       "      <td>3048</td>\n",
       "    </tr>\n",
       "    <tr>\n",
       "      <th>8</th>\n",
       "      <td>1986</td>\n",
       "      <td>2831</td>\n",
       "    </tr>\n",
       "    <tr>\n",
       "      <th>9</th>\n",
       "      <td>1987</td>\n",
       "      <td>2756</td>\n",
       "    </tr>\n",
       "    <tr>\n",
       "      <th>10</th>\n",
       "      <td>1988</td>\n",
       "      <td>2648</td>\n",
       "    </tr>\n",
       "    <tr>\n",
       "      <th>11</th>\n",
       "      <td>1989</td>\n",
       "      <td>2481</td>\n",
       "    </tr>\n",
       "    <tr>\n",
       "      <th>12</th>\n",
       "      <td>1990</td>\n",
       "      <td>2446</td>\n",
       "    </tr>\n",
       "    <tr>\n",
       "      <th>13</th>\n",
       "      <td>1991</td>\n",
       "      <td>2380</td>\n",
       "    </tr>\n",
       "    <tr>\n",
       "      <th>14</th>\n",
       "      <td>1992</td>\n",
       "      <td>2283</td>\n",
       "    </tr>\n",
       "    <tr>\n",
       "      <th>15</th>\n",
       "      <td>1993</td>\n",
       "      <td>2238</td>\n",
       "    </tr>\n",
       "    <tr>\n",
       "      <th>16</th>\n",
       "      <td>1994</td>\n",
       "      <td>2174</td>\n",
       "    </tr>\n",
       "    <tr>\n",
       "      <th>17</th>\n",
       "      <td>1995</td>\n",
       "      <td>2206</td>\n",
       "    </tr>\n",
       "    <tr>\n",
       "      <th>18</th>\n",
       "      <td>1996</td>\n",
       "      <td>2100</td>\n",
       "    </tr>\n",
       "    <tr>\n",
       "      <th>19</th>\n",
       "      <td>1997</td>\n",
       "      <td>2015</td>\n",
       "    </tr>\n",
       "    <tr>\n",
       "      <th>20</th>\n",
       "      <td>1998</td>\n",
       "      <td>2060</td>\n",
       "    </tr>\n",
       "    <tr>\n",
       "      <th>21</th>\n",
       "      <td>1999</td>\n",
       "      <td>2053</td>\n",
       "    </tr>\n",
       "    <tr>\n",
       "      <th>22</th>\n",
       "      <td>2000</td>\n",
       "      <td>1974</td>\n",
       "    </tr>\n",
       "    <tr>\n",
       "      <th>23</th>\n",
       "      <td>2001</td>\n",
       "      <td>138</td>\n",
       "    </tr>\n",
       "    <tr>\n",
       "      <th>24</th>\n",
       "      <td>2002</td>\n",
       "      <td>126</td>\n",
       "    </tr>\n",
       "    <tr>\n",
       "      <th>25</th>\n",
       "      <td>2003</td>\n",
       "      <td>138</td>\n",
       "    </tr>\n",
       "    <tr>\n",
       "      <th>26</th>\n",
       "      <td>2004</td>\n",
       "      <td>111</td>\n",
       "    </tr>\n",
       "    <tr>\n",
       "      <th>27</th>\n",
       "      <td>2005</td>\n",
       "      <td>112</td>\n",
       "    </tr>\n",
       "    <tr>\n",
       "      <th>28</th>\n",
       "      <td>2006</td>\n",
       "      <td>114</td>\n",
       "    </tr>\n",
       "    <tr>\n",
       "      <th>29</th>\n",
       "      <td>2007</td>\n",
       "      <td>211</td>\n",
       "    </tr>\n",
       "    <tr>\n",
       "      <th>30</th>\n",
       "      <td>2008</td>\n",
       "      <td>1709</td>\n",
       "    </tr>\n",
       "    <tr>\n",
       "      <th>31</th>\n",
       "      <td>2009</td>\n",
       "      <td>1604</td>\n",
       "    </tr>\n",
       "    <tr>\n",
       "      <th>32</th>\n",
       "      <td>2010</td>\n",
       "      <td>1559</td>\n",
       "    </tr>\n",
       "    <tr>\n",
       "      <th>33</th>\n",
       "      <td>2011</td>\n",
       "      <td>1612</td>\n",
       "    </tr>\n",
       "    <tr>\n",
       "      <th>34</th>\n",
       "      <td>2012</td>\n",
       "      <td>1575</td>\n",
       "    </tr>\n",
       "    <tr>\n",
       "      <th>35</th>\n",
       "      <td>2013</td>\n",
       "      <td>1313</td>\n",
       "    </tr>\n",
       "    <tr>\n",
       "      <th>36</th>\n",
       "      <td>2014</td>\n",
       "      <td>1315</td>\n",
       "    </tr>\n",
       "    <tr>\n",
       "      <th>37</th>\n",
       "      <td>2015</td>\n",
       "      <td>1313</td>\n",
       "    </tr>\n",
       "    <tr>\n",
       "      <th>38</th>\n",
       "      <td>2016</td>\n",
       "      <td>1342</td>\n",
       "    </tr>\n",
       "    <tr>\n",
       "      <th>39</th>\n",
       "      <td>2017</td>\n",
       "      <td>1331</td>\n",
       "    </tr>\n",
       "    <tr>\n",
       "      <th>40</th>\n",
       "      <td>2018</td>\n",
       "      <td>1349</td>\n",
       "    </tr>\n",
       "    <tr>\n",
       "      <th>41</th>\n",
       "      <td>2019</td>\n",
       "      <td>1303</td>\n",
       "    </tr>\n",
       "    <tr>\n",
       "      <th>42</th>\n",
       "      <td>2020</td>\n",
       "      <td>1137</td>\n",
       "    </tr>\n",
       "    <tr>\n",
       "      <th>43</th>\n",
       "      <td>2021</td>\n",
       "      <td>1181</td>\n",
       "    </tr>\n",
       "    <tr>\n",
       "      <th>44</th>\n",
       "      <td>2022</td>\n",
       "      <td>1250</td>\n",
       "    </tr>\n",
       "  </tbody>\n",
       "</table>\n",
       "</div>"
      ],
      "text/plain": [
       "    Event_year  NumberOfAccidents\n",
       "0         1962                  1\n",
       "1         1977                  1\n",
       "2         1979                  2\n",
       "3         1981                  1\n",
       "4         1982               3537\n",
       "5         1983               3507\n",
       "6         1984               3402\n",
       "7         1985               3048\n",
       "8         1986               2831\n",
       "9         1987               2756\n",
       "10        1988               2648\n",
       "11        1989               2481\n",
       "12        1990               2446\n",
       "13        1991               2380\n",
       "14        1992               2283\n",
       "15        1993               2238\n",
       "16        1994               2174\n",
       "17        1995               2206\n",
       "18        1996               2100\n",
       "19        1997               2015\n",
       "20        1998               2060\n",
       "21        1999               2053\n",
       "22        2000               1974\n",
       "23        2001                138\n",
       "24        2002                126\n",
       "25        2003                138\n",
       "26        2004                111\n",
       "27        2005                112\n",
       "28        2006                114\n",
       "29        2007                211\n",
       "30        2008               1709\n",
       "31        2009               1604\n",
       "32        2010               1559\n",
       "33        2011               1612\n",
       "34        2012               1575\n",
       "35        2013               1313\n",
       "36        2014               1315\n",
       "37        2015               1313\n",
       "38        2016               1342\n",
       "39        2017               1331\n",
       "40        2018               1349\n",
       "41        2019               1303\n",
       "42        2020               1137\n",
       "43        2021               1181\n",
       "44        2022               1250"
      ]
     },
     "execution_count": 194,
     "metadata": {},
     "output_type": "execute_result"
    }
   ],
   "source": [
    "yearly_accidents = us_accident.groupby('Event_year').size().reset_index(name='NumberOfAccidents')\n",
    "yearly_accidents"
   ]
  },
  {
   "cell_type": "code",
   "execution_count": 198,
   "id": "15109b78-c36d-49da-9ac7-6c8550c1120c",
   "metadata": {},
   "outputs": [],
   "source": [
    "yearly_accidents = yearly_accidents[yearly_accidents['NumberOfAccidents'] > 1000]\n"
   ]
  },
  {
   "cell_type": "code",
   "execution_count": 200,
   "id": "a7c9dae8-eb58-4d0d-8e4b-5e400b729cd1",
   "metadata": {},
   "outputs": [
    {
     "data": {
      "image/png": "[encoded data removed]",
      "text/plain": [
       "<Figure size 1000x500 with 1 Axes>"
      ]
     },
     "metadata": {},
     "output_type": "display_data"
    }
   ],
   "source": [
    "plt.figure(figsize=(10, 5))\n",
    "plt.plot(yearly_accidents['Event_year'], yearly_accidents['NumberOfAccidents'],\n",
    "         color='green', linewidth=2)\n",
    "\n",
    "# Step 4: Customize plot\n",
    "plt.title(\"Number of Accidents per Year (US Aviation)\", loc=\"left\", fontsize=14, fontweight='bold')\n",
    "plt.xlabel(\"Year\")\n",
    "plt.ylabel(\"Number of Accidents\")\n",
    "plt.grid(True, linestyle='--', alpha=0.6)\n",
    "plt.tight_layout()\n",
    "plt.show()"
   ]
  },
  {
   "cell_type": "code",
   "execution_count": 280,
   "id": "fe28af26-d5cc-490b-a726-484184a5a2ce",
   "metadata": {},
   "outputs": [
    {
     "ename": "IllegalCharacterError",
     "evalue": "The failure of the nose gear during landing for reasons that could not be determined due to postaccident damage. \u000b\r cannot be used in worksheets.",
     "output_type": "error",
     "traceback": [
      "\u001b[1;31m---------------------------------------------------------------------------\u001b[0m",
      "\u001b[1;31mIllegalCharacterError\u001b[0m                     Traceback (most recent call last)",
      "Cell \u001b[1;32mIn[280], line 1\u001b[0m\n\u001b[1;32m----> 1\u001b[0m us_accident\u001b[38;5;241m.\u001b[39mto_excel(\u001b[38;5;124m\"\u001b[39m\u001b[38;5;124mcleaned_us_accident_data.xlsx\u001b[39m\u001b[38;5;124m\"\u001b[39m, index\u001b[38;5;241m=\u001b[39m\u001b[38;5;28;01mFalse\u001b[39;00m)\n",
      "File \u001b[1;32m~\\anaconda3\\Lib\\site-packages\\pandas\\util\\_decorators.py:333\u001b[0m, in \u001b[0;36mdeprecate_nonkeyword_arguments.<locals>.decorate.<locals>.wrapper\u001b[1;34m(*args, **kwargs)\u001b[0m\n\u001b[0;32m    327\u001b[0m \u001b[38;5;28;01mif\u001b[39;00m \u001b[38;5;28mlen\u001b[39m(args) \u001b[38;5;241m>\u001b[39m num_allow_args:\n\u001b[0;32m    328\u001b[0m     warnings\u001b[38;5;241m.\u001b[39mwarn(\n\u001b[0;32m    329\u001b[0m         msg\u001b[38;5;241m.\u001b[39mformat(arguments\u001b[38;5;241m=\u001b[39m_format_argument_list(allow_args)),\n\u001b[0;32m    330\u001b[0m         \u001b[38;5;167;01mFutureWarning\u001b[39;00m,\n\u001b[0;32m    331\u001b[0m         stacklevel\u001b[38;5;241m=\u001b[39mfind_stack_level(),\n\u001b[0;32m    332\u001b[0m     )\n\u001b[1;32m--> 333\u001b[0m \u001b[38;5;28;01mreturn\u001b[39;00m func(\u001b[38;5;241m*\u001b[39margs, \u001b[38;5;241m*\u001b[39m\u001b[38;5;241m*\u001b[39mkwargs)\n",
      "File \u001b[1;32m~\\anaconda3\\Lib\\site-packages\\pandas\\core\\generic.py:2417\u001b[0m, in \u001b[0;36mNDFrame.to_excel\u001b[1;34m(self, excel_writer, sheet_name, na_rep, float_format, columns, header, index, index_label, startrow, startcol, engine, merge_cells, inf_rep, freeze_panes, storage_options, engine_kwargs)\u001b[0m\n\u001b[0;32m   2404\u001b[0m \u001b[38;5;28;01mfrom\u001b[39;00m \u001b[38;5;21;01mpandas\u001b[39;00m\u001b[38;5;21;01m.\u001b[39;00m\u001b[38;5;21;01mio\u001b[39;00m\u001b[38;5;21;01m.\u001b[39;00m\u001b[38;5;21;01mformats\u001b[39;00m\u001b[38;5;21;01m.\u001b[39;00m\u001b[38;5;21;01mexcel\u001b[39;00m \u001b[38;5;28;01mimport\u001b[39;00m ExcelFormatter\n\u001b[0;32m   2406\u001b[0m formatter \u001b[38;5;241m=\u001b[39m ExcelFormatter(\n\u001b[0;32m   2407\u001b[0m     df,\n\u001b[0;32m   2408\u001b[0m     na_rep\u001b[38;5;241m=\u001b[39mna_rep,\n\u001b[1;32m   (...)\u001b[0m\n\u001b[0;32m   2415\u001b[0m     inf_rep\u001b[38;5;241m=\u001b[39minf_rep,\n\u001b[0;32m   2416\u001b[0m )\n\u001b[1;32m-> 2417\u001b[0m formatter\u001b[38;5;241m.\u001b[39mwrite(\n\u001b[0;32m   2418\u001b[0m     excel_writer,\n\u001b[0;32m   2419\u001b[0m     sheet_name\u001b[38;5;241m=\u001b[39msheet_name,\n\u001b[0;32m   2420\u001b[0m     startrow\u001b[38;5;241m=\u001b[39mstartrow,\n\u001b[0;32m   2421\u001b[0m     startcol\u001b[38;5;241m=\u001b[39mstartcol,\n\u001b[0;32m   2422\u001b[0m     freeze_panes\u001b[38;5;241m=\u001b[39mfreeze_panes,\n\u001b[0;32m   2423\u001b[0m     engine\u001b[38;5;241m=\u001b[39mengine,\n\u001b[0;32m   2424\u001b[0m     storage_options\u001b[38;5;241m=\u001b[39mstorage_options,\n\u001b[0;32m   2425\u001b[0m     engine_kwargs\u001b[38;5;241m=\u001b[39mengine_kwargs,\n\u001b[0;32m   2426\u001b[0m )\n",
      "File \u001b[1;32m~\\anaconda3\\Lib\\site-packages\\pandas\\io\\formats\\excel.py:952\u001b[0m, in \u001b[0;36mExcelFormatter.write\u001b[1;34m(self, writer, sheet_name, startrow, startcol, freeze_panes, engine, storage_options, engine_kwargs)\u001b[0m\n\u001b[0;32m    949\u001b[0m     need_save \u001b[38;5;241m=\u001b[39m \u001b[38;5;28;01mTrue\u001b[39;00m\n\u001b[0;32m    951\u001b[0m \u001b[38;5;28;01mtry\u001b[39;00m:\n\u001b[1;32m--> 952\u001b[0m     writer\u001b[38;5;241m.\u001b[39m_write_cells(\n\u001b[0;32m    953\u001b[0m         formatted_cells,\n\u001b[0;32m    954\u001b[0m         sheet_name,\n\u001b[0;32m    955\u001b[0m         startrow\u001b[38;5;241m=\u001b[39mstartrow,\n\u001b[0;32m    956\u001b[0m         startcol\u001b[38;5;241m=\u001b[39mstartcol,\n\u001b[0;32m    957\u001b[0m         freeze_panes\u001b[38;5;241m=\u001b[39mfreeze_panes,\n\u001b[0;32m    958\u001b[0m     )\n\u001b[0;32m    959\u001b[0m \u001b[38;5;28;01mfinally\u001b[39;00m:\n\u001b[0;32m    960\u001b[0m     \u001b[38;5;66;03m# make sure to close opened file handles\u001b[39;00m\n\u001b[0;32m    961\u001b[0m     \u001b[38;5;28;01mif\u001b[39;00m need_save:\n",
      "File \u001b[1;32m~\\anaconda3\\Lib\\site-packages\\pandas\\io\\excel\\_openpyxl.py:490\u001b[0m, in \u001b[0;36mOpenpyxlWriter._write_cells\u001b[1;34m(self, cells, sheet_name, startrow, startcol, freeze_panes)\u001b[0m\n\u001b[0;32m    486\u001b[0m \u001b[38;5;28;01mfor\u001b[39;00m cell \u001b[38;5;129;01min\u001b[39;00m cells:\n\u001b[0;32m    487\u001b[0m     xcell \u001b[38;5;241m=\u001b[39m wks\u001b[38;5;241m.\u001b[39mcell(\n\u001b[0;32m    488\u001b[0m         row\u001b[38;5;241m=\u001b[39mstartrow \u001b[38;5;241m+\u001b[39m cell\u001b[38;5;241m.\u001b[39mrow \u001b[38;5;241m+\u001b[39m \u001b[38;5;241m1\u001b[39m, column\u001b[38;5;241m=\u001b[39mstartcol \u001b[38;5;241m+\u001b[39m cell\u001b[38;5;241m.\u001b[39mcol \u001b[38;5;241m+\u001b[39m \u001b[38;5;241m1\u001b[39m\n\u001b[0;32m    489\u001b[0m     )\n\u001b[1;32m--> 490\u001b[0m     xcell\u001b[38;5;241m.\u001b[39mvalue, fmt \u001b[38;5;241m=\u001b[39m \u001b[38;5;28mself\u001b[39m\u001b[38;5;241m.\u001b[39m_value_with_fmt(cell\u001b[38;5;241m.\u001b[39mval)\n\u001b[0;32m    491\u001b[0m     \u001b[38;5;28;01mif\u001b[39;00m fmt:\n\u001b[0;32m    492\u001b[0m         xcell\u001b[38;5;241m.\u001b[39mnumber_format \u001b[38;5;241m=\u001b[39m fmt\n",
      "File \u001b[1;32m~\\anaconda3\\Lib\\site-packages\\openpyxl\\cell\\cell.py:218\u001b[0m, in \u001b[0;36mCell.value\u001b[1;34m(self, value)\u001b[0m\n\u001b[0;32m    215\u001b[0m \u001b[38;5;129m@value\u001b[39m\u001b[38;5;241m.\u001b[39msetter\n\u001b[0;32m    216\u001b[0m \u001b[38;5;28;01mdef\u001b[39;00m \u001b[38;5;21mvalue\u001b[39m(\u001b[38;5;28mself\u001b[39m, value):\n\u001b[0;32m    217\u001b[0m \u001b[38;5;250m    \u001b[39m\u001b[38;5;124;03m\"\"\"Set the value and infer type and display options.\"\"\"\u001b[39;00m\n\u001b[1;32m--> 218\u001b[0m     \u001b[38;5;28mself\u001b[39m\u001b[38;5;241m.\u001b[39m_bind_value(value)\n",
      "File \u001b[1;32m~\\anaconda3\\Lib\\site-packages\\openpyxl\\cell\\cell.py:197\u001b[0m, in \u001b[0;36mCell._bind_value\u001b[1;34m(self, value)\u001b[0m\n\u001b[0;32m    194\u001b[0m         \u001b[38;5;28mself\u001b[39m\u001b[38;5;241m.\u001b[39mnumber_format \u001b[38;5;241m=\u001b[39m get_time_format(t)\n\u001b[0;32m    196\u001b[0m \u001b[38;5;28;01melif\u001b[39;00m dt \u001b[38;5;241m==\u001b[39m \u001b[38;5;124m\"\u001b[39m\u001b[38;5;124ms\u001b[39m\u001b[38;5;124m\"\u001b[39m \u001b[38;5;129;01mand\u001b[39;00m \u001b[38;5;129;01mnot\u001b[39;00m \u001b[38;5;28misinstance\u001b[39m(value, CellRichText):\n\u001b[1;32m--> 197\u001b[0m     value \u001b[38;5;241m=\u001b[39m \u001b[38;5;28mself\u001b[39m\u001b[38;5;241m.\u001b[39mcheck_string(value)\n\u001b[0;32m    198\u001b[0m     \u001b[38;5;28;01mif\u001b[39;00m \u001b[38;5;28mlen\u001b[39m(value) \u001b[38;5;241m>\u001b[39m \u001b[38;5;241m1\u001b[39m \u001b[38;5;129;01mand\u001b[39;00m value\u001b[38;5;241m.\u001b[39mstartswith(\u001b[38;5;124m\"\u001b[39m\u001b[38;5;124m=\u001b[39m\u001b[38;5;124m\"\u001b[39m):\n\u001b[0;32m    199\u001b[0m         \u001b[38;5;28mself\u001b[39m\u001b[38;5;241m.\u001b[39mdata_type \u001b[38;5;241m=\u001b[39m \u001b[38;5;124m'\u001b[39m\u001b[38;5;124mf\u001b[39m\u001b[38;5;124m'\u001b[39m\n",
      "File \u001b[1;32m~\\anaconda3\\Lib\\site-packages\\openpyxl\\cell\\cell.py:165\u001b[0m, in \u001b[0;36mCell.check_string\u001b[1;34m(self, value)\u001b[0m\n\u001b[0;32m    163\u001b[0m value \u001b[38;5;241m=\u001b[39m value[:\u001b[38;5;241m32767\u001b[39m]\n\u001b[0;32m    164\u001b[0m \u001b[38;5;28;01mif\u001b[39;00m \u001b[38;5;28mnext\u001b[39m(ILLEGAL_CHARACTERS_RE\u001b[38;5;241m.\u001b[39mfinditer(value), \u001b[38;5;28;01mNone\u001b[39;00m):\n\u001b[1;32m--> 165\u001b[0m     \u001b[38;5;28;01mraise\u001b[39;00m IllegalCharacterError(\u001b[38;5;124mf\u001b[39m\u001b[38;5;124m\"\u001b[39m\u001b[38;5;132;01m{\u001b[39;00mvalue\u001b[38;5;132;01m}\u001b[39;00m\u001b[38;5;124m cannot be used in worksheets.\u001b[39m\u001b[38;5;124m\"\u001b[39m)\n\u001b[0;32m    166\u001b[0m \u001b[38;5;28;01mreturn\u001b[39;00m value\n",
      "\u001b[1;31mIllegalCharacterError\u001b[0m: The failure of the nose gear during landing for reasons that could not be determined due to postaccident damage. \u000b\r cannot be used in worksheets."
     ]
    }
   ],
   "source": [
    "us_accident.to_excel(\"cleaned_us_accident_data.xlsx\", index=False)\n"
   ]
  }
 ],
 "metadata": {
  "kernelspec": {
   "display_name": "Python [conda env:base] *",
   "language": "python",
   "name": "conda-base-py"
  },
  "language_info": {
   "codemirror_mode": {
    "name": "ipython",
    "version": 3
   },
   "file_extension": ".py",
   "mimetype": "text/x-python",
   "name": "python",
   "nbconvert_exporter": "python",
   "pygments_lexer": "ipython3",
   "version": "3.12.7"
  }
 },
 "nbformat": 4,
 "nbformat_minor": 5
}
